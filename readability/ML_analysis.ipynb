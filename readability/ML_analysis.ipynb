{
 "cells": [
  {
   "cell_type": "code",
   "execution_count": 1,
   "metadata": {
    "collapsed": true
   },
   "outputs": [],
   "source": [
    "import pandas as pd\n",
    "from sklearn.model_selection import train_test_split"
   ]
  },
  {
   "cell_type": "code",
   "execution_count": 59,
   "metadata": {
    "collapsed": true
   },
   "outputs": [],
   "source": [
    "texts = pd.read_csv('scipop4.csv', encoding = 'utf-8') #пока наилучший вариант был с третьей итерацией"
   ]
  },
  {
   "cell_type": "code",
   "execution_count": 41,
   "metadata": {
    "collapsed": true
   },
   "outputs": [],
   "source": [
    "texts = texts.drop(['Unnamed: 0'], axis=1)"
   ]
  },
  {
   "cell_type": "code",
   "execution_count": 42,
   "metadata": {
    "collapsed": true
   },
   "outputs": [],
   "source": [
    "train, test = train_test_split(texts, test_size=0.3)"
   ]
  },
  {
   "cell_type": "code",
   "execution_count": 43,
   "metadata": {
    "collapsed": true
   },
   "outputs": [],
   "source": [
    "y_train = train['class'] \n",
    "y_test = test['class']"
   ]
  },
  {
   "cell_type": "code",
   "execution_count": 44,
   "metadata": {
    "collapsed": true
   },
   "outputs": [],
   "source": [
    "#train"
   ]
  },
  {
   "cell_type": "code",
   "execution_count": 45,
   "metadata": {
    "collapsed": true
   },
   "outputs": [],
   "source": [
    "import ksslib.readability_metrics as kk"
   ]
  },
  {
   "cell_type": "code",
   "execution_count": 46,
   "metadata": {
    "collapsed": true
   },
   "outputs": [],
   "source": [
    "def statist_vectors(text):\n",
    "    FRE = kk.flesch_RE(text)\n",
    "    FKG = kk.flesch_kincaid_grade(text)\n",
    "    SMOG = kk.smog_index(text)\n",
    "    CLI = kk.coleman_liau_index(text)\n",
    "    DCH = kk.dale_chall_score(text)\n",
    "    GF = kk.gunning_fog(text)\n",
    "    return [FRE, FKG, SMOG, CLI, DCH, GF]"
   ]
  },
  {
   "cell_type": "code",
   "execution_count": 47,
   "metadata": {
    "collapsed": true
   },
   "outputs": [],
   "source": [
    "#try_me = statist_vectors(train['text'][1])"
   ]
  },
  {
   "cell_type": "code",
   "execution_count": 48,
   "metadata": {},
   "outputs": [],
   "source": [
    "#try_me"
   ]
  },
  {
   "cell_type": "code",
   "execution_count": 49,
   "metadata": {
    "collapsed": true
   },
   "outputs": [],
   "source": [
    "def count_me_all(texts):\n",
    "    return [statist_vectors(text) for text in texts]"
   ]
  },
  {
   "cell_type": "code",
   "execution_count": 50,
   "metadata": {
    "collapsed": true,
    "scrolled": true
   },
   "outputs": [],
   "source": [
    "x_train = count_me_all(train['text'])\n",
    "x_test = count_me_all(test['text'])"
   ]
  },
  {
   "cell_type": "code",
   "execution_count": 64,
   "metadata": {},
   "outputs": [
    {
     "data": {
      "text/html": [
       "<div>\n",
       "<style>\n",
       "    .dataframe thead tr:only-child th {\n",
       "        text-align: right;\n",
       "    }\n",
       "\n",
       "    .dataframe thead th {\n",
       "        text-align: left;\n",
       "    }\n",
       "\n",
       "    .dataframe tbody tr th {\n",
       "        vertical-align: top;\n",
       "    }\n",
       "</style>\n",
       "<table border=\"1\" class=\"dataframe\">\n",
       "  <thead>\n",
       "    <tr style=\"text-align: right;\">\n",
       "      <th></th>\n",
       "      <th>text</th>\n",
       "      <th>class</th>\n",
       "    </tr>\n",
       "  </thead>\n",
       "  <tbody>\n",
       "    <tr>\n",
       "      <th>147</th>\n",
       "      <td>Если смотреть на первые элементы последователь...</td>\n",
       "      <td>2</td>\n",
       "    </tr>\n",
       "    <tr>\n",
       "      <th>79</th>\n",
       "      <td>Lockheed Martin Американская компания Lockheed...</td>\n",
       "      <td>1</td>\n",
       "    </tr>\n",
       "    <tr>\n",
       "      <th>156</th>\n",
       "      <td>На протяжении 150 лет знаменитый центр Брока р...</td>\n",
       "      <td>2</td>\n",
       "    </tr>\n",
       "    <tr>\n",
       "      <th>255</th>\n",
       "      <td>Ученые из МГТУ имениБаумана совмес...</td>\n",
       "      <td>3</td>\n",
       "    </tr>\n",
       "    <tr>\n",
       "      <th>76</th>\n",
       "      <td>Терракотовая статуя из мавзолея императора Цин...</td>\n",
       "      <td>1</td>\n",
       "    </tr>\n",
       "    <tr>\n",
       "      <th>211</th>\n",
       "      <td>Астрономы из МГУ исследовали как излучается ве...</td>\n",
       "      <td>3</td>\n",
       "    </tr>\n",
       "    <tr>\n",
       "      <th>233</th>\n",
       "      <td>Компания Nikon более известна своими любительс...</td>\n",
       "      <td>3</td>\n",
       "    </tr>\n",
       "    <tr>\n",
       "      <th>171</th>\n",
       "      <td>В ближайшее время разработчики намерены миниат...</td>\n",
       "      <td>2</td>\n",
       "    </tr>\n",
       "    <tr>\n",
       "      <th>20</th>\n",
       "      <td>Часто приходится слышать, что, живи дельфины н...</td>\n",
       "      <td>1</td>\n",
       "    </tr>\n",
       "    <tr>\n",
       "      <th>37</th>\n",
       "      <td>Физики из Массачусетского университета разрабо...</td>\n",
       "      <td>1</td>\n",
       "    </tr>\n",
       "    <tr>\n",
       "      <th>82</th>\n",
       "      <td>Aquila Facebook Американская компания Facebook...</td>\n",
       "      <td>1</td>\n",
       "    </tr>\n",
       "    <tr>\n",
       "      <th>106</th>\n",
       "      <td>Руины города Таква  Фото: Wikime...</td>\n",
       "      <td>1</td>\n",
       "    </tr>\n",
       "    <tr>\n",
       "      <th>158</th>\n",
       "      <td>Кардиомиоцит, флуоресцентная микроскопия. Cred...</td>\n",
       "      <td>2</td>\n",
       "    </tr>\n",
       "    <tr>\n",
       "      <th>81</th>\n",
       "      <td>МС-21-300 «Иркут» Подмосковный Центральный аэр...</td>\n",
       "      <td>1</td>\n",
       "    </tr>\n",
       "    <tr>\n",
       "      <th>226</th>\n",
       "      <td>Как вещество, содержащееся в пиве или паутине,...</td>\n",
       "      <td>3</td>\n",
       "    </tr>\n",
       "    <tr>\n",
       "      <th>14</th>\n",
       "      <td>Жизнь клетки насыщена событиями не меньше, чем...</td>\n",
       "      <td>1</td>\n",
       "    </tr>\n",
       "    <tr>\n",
       "      <th>135</th>\n",
       "      <td>У физики — невероятная биография. В ней можно...</td>\n",
       "      <td>2</td>\n",
       "    </tr>\n",
       "    <tr>\n",
       "      <th>212</th>\n",
       "      <td>Сотрудники Центрального аэрогидродинамического...</td>\n",
       "      <td>3</td>\n",
       "    </tr>\n",
       "    <tr>\n",
       "      <th>114</th>\n",
       "      <td>Большой подземный ксеноновый детектор незафикс...</td>\n",
       "      <td>2</td>\n",
       "    </tr>\n",
       "    <tr>\n",
       "      <th>190</th>\n",
       "      <td>Ученые из Уппсальского университет...</td>\n",
       "      <td>2</td>\n",
       "    </tr>\n",
       "    <tr>\n",
       "      <th>24</th>\n",
       "      <td>Изначально ученые расшифровывали геном, чтобы ...</td>\n",
       "      <td>1</td>\n",
       "    </tr>\n",
       "    <tr>\n",
       "      <th>210</th>\n",
       "      <td>Палеонтологи обнаружили отпечатки родственника...</td>\n",
       "      <td>3</td>\n",
       "    </tr>\n",
       "    <tr>\n",
       "      <th>204</th>\n",
       "      <td>Исследователи с некоторым удивлени...</td>\n",
       "      <td>2</td>\n",
       "    </tr>\n",
       "    <tr>\n",
       "      <th>101</th>\n",
       "      <td>В журнале PLOS ONE  выпускаемом ме...</td>\n",
       "      <td>1</td>\n",
       "    </tr>\n",
       "    <tr>\n",
       "      <th>122</th>\n",
       "      <td>Бытовая мудрость гласит, что все тайное станов...</td>\n",
       "      <td>2</td>\n",
       "    </tr>\n",
       "    <tr>\n",
       "      <th>197</th>\n",
       "      <td>В конце января команда охотников з...</td>\n",
       "      <td>2</td>\n",
       "    </tr>\n",
       "    <tr>\n",
       "      <th>95</th>\n",
       "      <td>В традиционных культурах существую...</td>\n",
       "      <td>1</td>\n",
       "    </tr>\n",
       "    <tr>\n",
       "      <th>238</th>\n",
       "      <td>Диатомовая земля, которая используется для ста...</td>\n",
       "      <td>3</td>\n",
       "    </tr>\n",
       "    <tr>\n",
       "      <th>229</th>\n",
       "      <td>О льде, который вовсе не лед, о частицах, кото...</td>\n",
       "      <td>3</td>\n",
       "    </tr>\n",
       "    <tr>\n",
       "      <th>75</th>\n",
       "      <td>Премьер-министр Сингапура Ли Сянь Лун Wikimedi...</td>\n",
       "      <td>1</td>\n",
       "    </tr>\n",
       "    <tr>\n",
       "      <th>...</th>\n",
       "      <td>...</td>\n",
       "      <td>...</td>\n",
       "    </tr>\n",
       "    <tr>\n",
       "      <th>46</th>\n",
       "      <td>Сегодня хочется рассказать сказочную историю п...</td>\n",
       "      <td>1</td>\n",
       "    </tr>\n",
       "    <tr>\n",
       "      <th>121</th>\n",
       "      <td>Магматические породы, найденные в Коста-Рике, ...</td>\n",
       "      <td>2</td>\n",
       "    </tr>\n",
       "    <tr>\n",
       "      <th>26</th>\n",
       "      <td>Всегда приятно найти в Москве неизведанное при...</td>\n",
       "      <td>1</td>\n",
       "    </tr>\n",
       "    <tr>\n",
       "      <th>222</th>\n",
       "      <td>Несколько дней назад специалисты Аризонского у...</td>\n",
       "      <td>3</td>\n",
       "    </tr>\n",
       "    <tr>\n",
       "      <th>29</th>\n",
       "      <td>Киберпанк снова в моде. В этом году должна вый...</td>\n",
       "      <td>1</td>\n",
       "    </tr>\n",
       "    <tr>\n",
       "      <th>64</th>\n",
       "      <td>Яндекс.Диктовка в Google Play Николай Воронцов...</td>\n",
       "      <td>1</td>\n",
       "    </tr>\n",
       "    <tr>\n",
       "      <th>103</th>\n",
       "      <td>Северо-Американское космическое аг...</td>\n",
       "      <td>1</td>\n",
       "    </tr>\n",
       "    <tr>\n",
       "      <th>15</th>\n",
       "      <td>Как долго человек может задерживать дыхание, ч...</td>\n",
       "      <td>1</td>\n",
       "    </tr>\n",
       "    <tr>\n",
       "      <th>182</th>\n",
       "      <td>Мы публикуем стенограмму лекции главного редак...</td>\n",
       "      <td>2</td>\n",
       "    </tr>\n",
       "    <tr>\n",
       "      <th>180</th>\n",
       "      <td>Мы публикуем расшифровку лекции доктора биолог...</td>\n",
       "      <td>2</td>\n",
       "    </tr>\n",
       "    <tr>\n",
       "      <th>111</th>\n",
       "      <td>Измеряя температуру атмосферы Юпитера, ученые ...</td>\n",
       "      <td>2</td>\n",
       "    </tr>\n",
       "    <tr>\n",
       "      <th>99</th>\n",
       "      <td>Антонио Келла    Нау...</td>\n",
       "      <td>1</td>\n",
       "    </tr>\n",
       "    <tr>\n",
       "      <th>50</th>\n",
       "      <td>В начале апреля британская компания Hybrid Air...</td>\n",
       "      <td>1</td>\n",
       "    </tr>\n",
       "    <tr>\n",
       "      <th>12</th>\n",
       "      <td>Московские инженеры создали портативную беспро...</td>\n",
       "      <td>1</td>\n",
       "    </tr>\n",
       "    <tr>\n",
       "      <th>19</th>\n",
       "      <td>До середины прошлого века люди надеялись встре...</td>\n",
       "      <td>1</td>\n",
       "    </tr>\n",
       "    <tr>\n",
       "      <th>203</th>\n",
       "      <td>Партнер проекта      Сме...</td>\n",
       "      <td>2</td>\n",
       "    </tr>\n",
       "    <tr>\n",
       "      <th>59</th>\n",
       "      <td>Мы, то есть N + 1, продолжаем наш проект «Сдел...</td>\n",
       "      <td>1</td>\n",
       "    </tr>\n",
       "    <tr>\n",
       "      <th>249</th>\n",
       "      <td>Группа исследователей Солнца из ун...</td>\n",
       "      <td>3</td>\n",
       "    </tr>\n",
       "    <tr>\n",
       "      <th>63</th>\n",
       "      <td>В одной из самых популярных китайских легенд о...</td>\n",
       "      <td>1</td>\n",
       "    </tr>\n",
       "    <tr>\n",
       "      <th>42</th>\n",
       "      <td>Veuve Clicqout Cave Privée погружают на 40-лет...</td>\n",
       "      <td>1</td>\n",
       "    </tr>\n",
       "    <tr>\n",
       "      <th>88</th>\n",
       "      <td>Мы публикуем полную расшифровку лекции доктора...</td>\n",
       "      <td>1</td>\n",
       "    </tr>\n",
       "    <tr>\n",
       "      <th>144</th>\n",
       "      <td>ВМС США объявили о скором завершении программы...</td>\n",
       "      <td>2</td>\n",
       "    </tr>\n",
       "    <tr>\n",
       "      <th>127</th>\n",
       "      <td>Эволюцию трудно разглядеть невооруженным глазо...</td>\n",
       "      <td>2</td>\n",
       "    </tr>\n",
       "    <tr>\n",
       "      <th>47</th>\n",
       "      <td>Рецензии на «Марсианина» были в чем-то похожи ...</td>\n",
       "      <td>1</td>\n",
       "    </tr>\n",
       "    <tr>\n",
       "      <th>133</th>\n",
       "      <td>В научном исследовании, как и в любом другом в...</td>\n",
       "      <td>2</td>\n",
       "    </tr>\n",
       "    <tr>\n",
       "      <th>113</th>\n",
       "      <td>Исследователи из нескольких российских институ...</td>\n",
       "      <td>2</td>\n",
       "    </tr>\n",
       "    <tr>\n",
       "      <th>143</th>\n",
       "      <td>На прошлой неделе команда «Хаббла» опубликовал...</td>\n",
       "      <td>2</td>\n",
       "    </tr>\n",
       "    <tr>\n",
       "      <th>218</th>\n",
       "      <td>Останки мужчины с зажившими переломами нашли п...</td>\n",
       "      <td>3</td>\n",
       "    </tr>\n",
       "    <tr>\n",
       "      <th>36</th>\n",
       "      <td>В продолжении статей про солнечную активность ...</td>\n",
       "      <td>1</td>\n",
       "    </tr>\n",
       "    <tr>\n",
       "      <th>38</th>\n",
       "      <td>Эта новость прошла мимо Хабра, тем не менее в ...</td>\n",
       "      <td>1</td>\n",
       "    </tr>\n",
       "  </tbody>\n",
       "</table>\n",
       "<p>179 rows × 2 columns</p>\n",
       "</div>"
      ],
      "text/plain": [
       "                                                  text  class\n",
       "147  Если смотреть на первые элементы последователь...      2\n",
       "79   Lockheed Martin Американская компания Lockheed...      1\n",
       "156  На протяжении 150 лет знаменитый центр Брока р...      2\n",
       "255              Ученые из МГТУ имениБаумана совмес...      3\n",
       "76   Терракотовая статуя из мавзолея императора Цин...      1\n",
       "211  Астрономы из МГУ исследовали как излучается ве...      3\n",
       "233  Компания Nikon более известна своими любительс...      3\n",
       "171  В ближайшее время разработчики намерены миниат...      2\n",
       "20   Часто приходится слышать, что, живи дельфины н...      1\n",
       "37   Физики из Массачусетского университета разрабо...      1\n",
       "82   Aquila Facebook Американская компания Facebook...      1\n",
       "106                Руины города Таква  Фото: Wikime...      1\n",
       "158  Кардиомиоцит, флуоресцентная микроскопия. Cred...      2\n",
       "81   МС-21-300 «Иркут» Подмосковный Центральный аэр...      1\n",
       "226  Как вещество, содержащееся в пиве или паутине,...      3\n",
       "14   Жизнь клетки насыщена событиями не меньше, чем...      1\n",
       "135   У физики — невероятная биография. В ней можно...      2\n",
       "212  Сотрудники Центрального аэрогидродинамического...      3\n",
       "114  Большой подземный ксеноновый детектор незафикс...      2\n",
       "190              Ученые из Уппсальского университет...      2\n",
       "24   Изначально ученые расшифровывали геном, чтобы ...      1\n",
       "210  Палеонтологи обнаружили отпечатки родственника...      3\n",
       "204              Исследователи с некоторым удивлени...      2\n",
       "101              В журнале PLOS ONE  выпускаемом ме...      1\n",
       "122  Бытовая мудрость гласит, что все тайное станов...      2\n",
       "197              В конце января команда охотников з...      2\n",
       "95               В традиционных культурах существую...      1\n",
       "238  Диатомовая земля, которая используется для ста...      3\n",
       "229  О льде, который вовсе не лед, о частицах, кото...      3\n",
       "75   Премьер-министр Сингапура Ли Сянь Лун Wikimedi...      1\n",
       "..                                                 ...    ...\n",
       "46   Сегодня хочется рассказать сказочную историю п...      1\n",
       "121  Магматические породы, найденные в Коста-Рике, ...      2\n",
       "26   Всегда приятно найти в Москве неизведанное при...      1\n",
       "222  Несколько дней назад специалисты Аризонского у...      3\n",
       "29   Киберпанк снова в моде. В этом году должна вый...      1\n",
       "64   Яндекс.Диктовка в Google Play Николай Воронцов...      1\n",
       "103              Северо-Американское космическое аг...      1\n",
       "15   Как долго человек может задерживать дыхание, ч...      1\n",
       "182  Мы публикуем стенограмму лекции главного редак...      2\n",
       "180  Мы публикуем расшифровку лекции доктора биолог...      2\n",
       "111  Измеряя температуру атмосферы Юпитера, ученые ...      2\n",
       "99                             Антонио Келла    Нау...      1\n",
       "50   В начале апреля британская компания Hybrid Air...      1\n",
       "12   Московские инженеры создали портативную беспро...      1\n",
       "19   До середины прошлого века люди надеялись встре...      1\n",
       "203                        Партнер проекта      Сме...      2\n",
       "59   Мы, то есть N + 1, продолжаем наш проект «Сдел...      1\n",
       "249              Группа исследователей Солнца из ун...      3\n",
       "63   В одной из самых популярных китайских легенд о...      1\n",
       "42   Veuve Clicqout Cave Privée погружают на 40-лет...      1\n",
       "88   Мы публикуем полную расшифровку лекции доктора...      1\n",
       "144  ВМС США объявили о скором завершении программы...      2\n",
       "127  Эволюцию трудно разглядеть невооруженным глазо...      2\n",
       "47   Рецензии на «Марсианина» были в чем-то похожи ...      1\n",
       "133  В научном исследовании, как и в любом другом в...      2\n",
       "113  Исследователи из нескольких российских институ...      2\n",
       "143  На прошлой неделе команда «Хаббла» опубликовал...      2\n",
       "218  Останки мужчины с зажившими переломами нашли п...      3\n",
       "36   В продолжении статей про солнечную активность ...      1\n",
       "38   Эта новость прошла мимо Хабра, тем не менее в ...      1\n",
       "\n",
       "[179 rows x 2 columns]"
      ]
     },
     "execution_count": 64,
     "metadata": {},
     "output_type": "execute_result"
    }
   ],
   "source": [
    "train"
   ]
  },
  {
   "cell_type": "code",
   "execution_count": 52,
   "metadata": {
    "collapsed": true
   },
   "outputs": [],
   "source": [
    "from sklearn.preprocessing import StandardScaler"
   ]
  },
  {
   "cell_type": "code",
   "execution_count": 53,
   "metadata": {
    "collapsed": true
   },
   "outputs": [],
   "source": [
    "scaler = StandardScaler()\n",
    "x_fit = scaler.fit(x_train)\n",
    "x_transform = scaler.transform(x_train)\n",
    "x_fit_test = scaler.fit(x_test)\n",
    "x_transform_test = scaler.transform(x_test)"
   ]
  },
  {
   "cell_type": "code",
   "execution_count": 54,
   "metadata": {},
   "outputs": [
    {
     "data": {
      "text/plain": [
       "array([[ 0.94144548, -0.03752427, -0.21609744, -1.08180242, -0.77547203,\n",
       "        -0.12556262],\n",
       "       [-0.61838498,  0.49744557,  0.45623353,  0.82691951,  0.35753456,\n",
       "         0.33945206],\n",
       "       [ 0.27952241, -0.24556809,  0.09765701, -0.33184234,  0.14172378,\n",
       "         0.06044325],\n",
       "       ...,\n",
       "       [ 0.3015649 ,  0.17051956,  0.00801288, -0.87593103, -0.43017478,\n",
       "        -0.03255969],\n",
       "       [-0.63135115,  2.31039891,  1.62160721, -0.58182904,  0.65966965,\n",
       "         1.98250393],\n",
       "       [ 1.0788869 , -0.30500918, -0.66431809, -1.33767116, -1.16393143,\n",
       "        -0.55957633]])"
      ]
     },
     "execution_count": 54,
     "metadata": {},
     "output_type": "execute_result"
    }
   ],
   "source": [
    "x_transform"
   ]
  },
  {
   "cell_type": "code",
   "execution_count": 55,
   "metadata": {
    "collapsed": true
   },
   "outputs": [],
   "source": [
    "from sklearn import svm\n",
    "from sklearn.naive_bayes import MultinomialNB"
   ]
  },
  {
   "cell_type": "code",
   "execution_count": 56,
   "metadata": {
    "collapsed": true
   },
   "outputs": [],
   "source": [
    "from sklearn import metrics\n",
    "from sklearn.metrics import classification_report\n",
    "from sklearn.neighbors import KNeighborsClassifier"
   ]
  },
  {
   "cell_type": "code",
   "execution_count": 57,
   "metadata": {},
   "outputs": [
    {
     "name": "stdout",
     "output_type": "stream",
     "text": [
      "SVC(C=1.0, cache_size=200, class_weight=None, coef0=0.0,\n",
      "  decision_function_shape=None, degree=3, gamma='auto', kernel='rbf',\n",
      "  max_iter=-1, probability=False, random_state=None, shrinking=True,\n",
      "  tol=0.001, verbose=False)\n",
      "             precision    recall  f1-score   support\n",
      "\n",
      "          1       0.53      0.62      0.57        32\n",
      "          2       0.55      0.58      0.56        31\n",
      "          3       0.33      0.14      0.20        14\n",
      "\n",
      "avg / total       0.50      0.52      0.50        77\n",
      "\n",
      "[[20  9  3]\n",
      " [12 18  1]\n",
      " [ 6  6  2]]\n"
     ]
    }
   ],
   "source": [
    "from sklearn.svm import SVC\n",
    "\n",
    "model_svc = SVC()\n",
    "model_svc.fit(x_transform, y_train)\n",
    "print(model_svc)\n",
    "\n",
    "expected_svc = y_test\n",
    "predicted_svc = model_svc.predict(x_transform_test)\n",
    "\n",
    "print(metrics.classification_report(expected_svc, predicted_svc))\n",
    "print(metrics.confusion_matrix(expected_svc, predicted_svc))"
   ]
  },
  {
   "cell_type": "code",
   "execution_count": 58,
   "metadata": {},
   "outputs": [
    {
     "name": "stdout",
     "output_type": "stream",
     "text": [
      "KNeighborsClassifier(algorithm='auto', leaf_size=30, metric='minkowski',\n",
      "           metric_params=None, n_jobs=1, n_neighbors=5, p=2,\n",
      "           weights='uniform')\n",
      "             precision    recall  f1-score   support\n",
      "\n",
      "          1       0.45      0.53      0.49        32\n",
      "          2       0.35      0.39      0.37        31\n",
      "          3       0.40      0.14      0.21        14\n",
      "\n",
      "avg / total       0.40      0.40      0.39        77\n",
      "\n",
      "[[17 15  0]\n",
      " [16 12  3]\n",
      " [ 5  7  2]]\n"
     ]
    }
   ],
   "source": [
    "model = KNeighborsClassifier()\n",
    "model.fit(x_transform, y_train)\n",
    "print(model)\n",
    "\n",
    "expected = y_test\n",
    "predicted = model.predict(x_transform_test)\n",
    "\n",
    "print(metrics.classification_report(expected, predicted))\n",
    "print(metrics.confusion_matrix(expected, predicted))"
   ]
  },
  {
   "cell_type": "markdown",
   "metadata": {
    "collapsed": true
   },
   "source": [
    "А что если попробовать стандартное преобразование текстов? Традиционно делаем предобработку"
   ]
  },
  {
   "cell_type": "code",
   "execution_count": 62,
   "metadata": {},
   "outputs": [],
   "source": [
    "def set_clean(s):\n",
    "    try:\n",
    "        # print(type(s))\n",
    "        clean_line = re.sub('[\\W\\d_-]+', ' ', s.lower().strip())\n",
    "        return re.sub(' +', ' ', clean_line)\n",
    "    except AttributeError:\n",
    "        ''#print (\"this was a series\")"
   ]
  },
  {
   "cell_type": "code",
   "execution_count": 70,
   "metadata": {
    "collapsed": true
   },
   "outputs": [],
   "source": [
    "import re\n",
    "from sklearn import svm\n",
    "from sklearn.feature_extraction.text import CountVectorizer\n",
    "from nltk.corpus import stopwords"
   ]
  },
  {
   "cell_type": "code",
   "execution_count": 67,
   "metadata": {},
   "outputs": [],
   "source": [
    "train_clean = train.applymap(set_clean) #применяем еще раз нашу предобработку\n",
    "test_clean = test.applymap(set_clean)"
   ]
  },
  {
   "cell_type": "code",
   "execution_count": 71,
   "metadata": {},
   "outputs": [
    {
     "name": "stderr",
     "output_type": "stream",
     "text": [
      "C:\\Users\\Ksenia\\Anaconda3\\lib\\site-packages\\sklearn\\feature_extraction\\text.py:1059: FutureWarning: Conversion of the second argument of issubdtype from `float` to `np.floating` is deprecated. In future, it will be treated as `np.float64 == np.dtype(float).type`.\n",
      "  if hasattr(X, 'dtype') and np.issubdtype(X.dtype, np.float):\n"
     ]
    }
   ],
   "source": [
    "from sklearn.feature_extraction.text import TfidfVectorizer\n",
    "from sklearn.feature_extraction.text import TfidfTransformer\n",
    "def tfidf_vec(voc=None):\n",
    "    if(voc):\n",
    "        vectorizer = TfidfVectorizer(ngram_range=(1, 1),\n",
    "                                     stop_words='russian',\n",
    "                                     min_df=5,   \n",
    "                                     max_df=0.9)  \n",
    "        tr = vectorizer.fit_transform(train_clean[\"text\"]) \n",
    "        te = vectorizer.fit_transform(test_clean[\"text\"]) \n",
    "        return (tr, te)\n",
    "    else:\n",
    "        vectorizer = TfidfVectorizer() \n",
    "        tr = vectorizer.fit_transform(train_clean[\"text\"]) \n",
    "        voc = vectorizer.get_feature_names()\n",
    "        vectorizer = CountVectorizer(vocabulary=voc) \n",
    "        te = vectorizer.fit_transform(test_clean[\"text\"]) \n",
    "        return (tr, te)\n",
    "train_counts, test_counts = tfidf_vec() \n",
    "\n",
    "tfidf_transformer = TfidfTransformer()\n",
    "\n",
    "x_train = tfidf_transformer.fit_transform(train_counts)\n",
    "x_test = tfidf_transformer.fit_transform(test_counts)"
   ]
  },
  {
   "cell_type": "code",
   "execution_count": 72,
   "metadata": {},
   "outputs": [
    {
     "data": {
      "text/plain": [
       "77"
      ]
     },
     "execution_count": 72,
     "metadata": {},
     "output_type": "execute_result"
    }
   ],
   "source": [
    "clf = MultinomialNB().fit(x_train, y_train)\n",
    "predicted = clf.predict(x_test)\n",
    "len(predicted)"
   ]
  },
  {
   "cell_type": "code",
   "execution_count": 73,
   "metadata": {},
   "outputs": [
    {
     "name": "stdout",
     "output_type": "stream",
     "text": [
      "             precision    recall  f1-score   support\n",
      "\n",
      "          1       0.43      0.94      0.59        32\n",
      "          2       0.43      0.10      0.16        31\n",
      "          3       0.00      0.00      0.00        14\n",
      "\n",
      "avg / total       0.35      0.43      0.31        77\n",
      "\n"
     ]
    },
    {
     "name": "stderr",
     "output_type": "stream",
     "text": [
      "C:\\Users\\Ksenia\\Anaconda3\\lib\\site-packages\\sklearn\\metrics\\classification.py:1113: UndefinedMetricWarning: Precision and F-score are ill-defined and being set to 0.0 in labels with no predicted samples.\n",
      "  'precision', 'predicted', average, warn_for)\n"
     ]
    }
   ],
   "source": [
    "print(classification_report(y_pred=predicted, y_true=y_test))"
   ]
  },
  {
   "cell_type": "code",
   "execution_count": 74,
   "metadata": {},
   "outputs": [
    {
     "name": "stdout",
     "output_type": "stream",
     "text": [
      "KNeighborsClassifier(algorithm='auto', leaf_size=30, metric='minkowski',\n",
      "           metric_params=None, n_jobs=1, n_neighbors=5, p=2,\n",
      "           weights='uniform')\n",
      "             precision    recall  f1-score   support\n",
      "\n",
      "          1       0.44      0.84      0.58        32\n",
      "          2       0.53      0.26      0.35        31\n",
      "          3       0.00      0.00      0.00        14\n",
      "\n",
      "avg / total       0.40      0.45      0.38        77\n",
      "\n",
      "[[27  5  0]\n",
      " [22  8  1]\n",
      " [12  2  0]]\n"
     ]
    }
   ],
   "source": [
    "model = KNeighborsClassifier()\n",
    "model.fit(x_train, y_train)\n",
    "print(model)\n",
    "\n",
    "expected = y_test\n",
    "predicted = model.predict(x_test)\n",
    "\n",
    "print(metrics.classification_report(expected, predicted))\n",
    "print(metrics.confusion_matrix(expected, predicted))"
   ]
  },
  {
   "cell_type": "code",
   "execution_count": 75,
   "metadata": {},
   "outputs": [
    {
     "name": "stdout",
     "output_type": "stream",
     "text": [
      "SVC(C=1.0, cache_size=200, class_weight=None, coef0=0.0,\n",
      "  decision_function_shape=None, degree=3, gamma='auto', kernel='rbf',\n",
      "  max_iter=-1, probability=False, random_state=None, shrinking=True,\n",
      "  tol=0.001, verbose=False)\n",
      "             precision    recall  f1-score   support\n",
      "\n",
      "          1       0.42      1.00      0.59        32\n",
      "          2       0.00      0.00      0.00        31\n",
      "          3       0.00      0.00      0.00        14\n",
      "\n",
      "avg / total       0.17      0.42      0.24        77\n",
      "\n",
      "[[32  0  0]\n",
      " [31  0  0]\n",
      " [14  0  0]]\n"
     ]
    },
    {
     "name": "stderr",
     "output_type": "stream",
     "text": [
      "C:\\Users\\Ksenia\\Anaconda3\\lib\\site-packages\\sklearn\\metrics\\classification.py:1113: UndefinedMetricWarning: Precision and F-score are ill-defined and being set to 0.0 in labels with no predicted samples.\n",
      "  'precision', 'predicted', average, warn_for)\n"
     ]
    }
   ],
   "source": [
    "from sklearn.svm import SVC\n",
    "\n",
    "model_svc = SVC()\n",
    "model_svc.fit(x_train, y_train)\n",
    "print(model_svc)\n",
    "\n",
    "expected_svc = y_test\n",
    "predicted_svc = model_svc.predict(x_test)\n",
    "\n",
    "print(metrics.classification_report(expected_svc, predicted_svc))\n",
    "print(metrics.confusion_matrix(expected_svc, predicted_svc))"
   ]
  },
  {
   "cell_type": "code",
   "execution_count": null,
   "metadata": {
    "collapsed": true
   },
   "outputs": [],
   "source": []
  }
 ],
 "metadata": {
  "kernelspec": {
   "display_name": "Python 3",
   "language": "python",
   "name": "python3"
  },
  "language_info": {
   "codemirror_mode": {
    "name": "ipython",
    "version": 3
   },
   "file_extension": ".py",
   "mimetype": "text/x-python",
   "name": "python",
   "nbconvert_exporter": "python",
   "pygments_lexer": "ipython3",
   "version": "3.6.1"
  }
 },
 "nbformat": 4,
 "nbformat_minor": 2
}

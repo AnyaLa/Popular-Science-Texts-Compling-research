{
 "cells": [
  {
   "cell_type": "code",
   "execution_count": 11,
   "metadata": {
    "collapsed": true
   },
   "outputs": [],
   "source": [
    "import repoze.lru"
   ]
  },
  {
   "cell_type": "code",
   "execution_count": 25,
   "metadata": {},
   "outputs": [],
   "source": [
    "from textstat.textstat import textstatistics, legacy_round\n",
    "class myTextStatistics(textstatistics):\n",
    "    @repoze.lru.lru_cache(maxsize=128)\n",
    "    def flesch_reading_ease(self, text):\n",
    "        ASL = self.avg_sentence_length(text)\n",
    "        ASW = self.avg_syllables_per_word(text)\n",
    "        # FRE = 206.835 - float(1.015 * ASL) - float(84.6 * ASW) # традиционный вар. для английского языка\n",
    "        FRE = 206.835 - float(1.3 * ASL) - float(60.1 * ASW) #коэфф. для русского\n",
    "        return legacy_round(FRE, 2)\n"
   ]
  },
  {
   "cell_type": "code",
   "execution_count": 9,
   "metadata": {
    "collapsed": true
   },
   "outputs": [],
   "source": [
    "test_data = \"Playing games has always been thought to be important to the development of well-balanced and creative children; however, what part, if any, they should play in the lives of adults has never been researched that deeply. I believe that playing games is every bit as important for adults as for children. Not only is taking time out to play games with our children and other adults valuable to building interpersonal relationships but is also a wonderful way to release built up tension.\""
   ]
  },
  {
   "cell_type": "code",
   "execution_count": 26,
   "metadata": {},
   "outputs": [
    {
     "name": "stdout",
     "output_type": "stream",
     "text": [
      "FRE = 81.19\n"
     ]
    }
   ],
   "source": [
    "textstat = myTextStatistics()\n",
    "# from textstat.textstat import textstat\n",
    "print('FRE =', textstat.flesch_reading_ease(test_data))"
   ]
  },
  {
   "cell_type": "code",
   "execution_count": 27,
   "metadata": {
    "collapsed": true
   },
   "outputs": [],
   "source": [
    "postnauka_data = \"Начать, пожалуй, стоит с проблем изучения римской юриспруденции, и связаны они прежде всего с источниками нашей информации о ней. К величайшему сожалению многих исследователей-романистов, не сохранилось практически ни одного подлинного произведения римских юристов периода расцвета, за исключением учебника Гая и фрагментов произведений Ульпиана и Павла — все это юристы II–III веков нашей эры. Все, что мы знаем о римской юриспруденции, мы знаем благодаря компиляции из этих произведений, составленной византийскими юристами в VI веке по распоряжению императора Юстиниана. Это «выборка» из их сочинений, которая дает много информации, но не дает всей информации о том, чем занимались римские юристы.\""
   ]
  },
  {
   "cell_type": "code",
   "execution_count": 28,
   "metadata": {},
   "outputs": [
    {
     "name": "stdout",
     "output_type": "stream",
     "text": [
      "FRE = 115.15\n"
     ]
    }
   ],
   "source": [
    "print('FRE =', textstat.flesch_reading_ease(postnauka_data))"
   ]
  },
  {
   "cell_type": "code",
   "execution_count": 29,
   "metadata": {
    "collapsed": true
   },
   "outputs": [],
   "source": [
    "drobysh_data = \"На самом деле даже у наших ближайших родственников — обезьян — детство уже выделяется в отдельную сферу. Детишки обезьян гораздо больше играют, чем взрослые, а потом они становятся очень серьезными. У девочек-шимпанзят есть игрушки в виде как бы кукол, такие палочки. В принципе, это просто палочки, которые никак не сделаны и даже не обработаны. Но судя по тому, как с ними носятся, как их нянчат, таскают на руках, спать укладывают, это настоящие куклы. Это у шимпанзе, у обезьян! Наверное, и у каких-то наших чуть более интеллектуальных предков, чем шимпанзе, например у австралопитеков, что-то подобное тоже было. Другое дело, что палочка в ископаемом виде не сохраняется.\""
   ]
  },
  {
   "cell_type": "code",
   "execution_count": 30,
   "metadata": {},
   "outputs": [
    {
     "name": "stdout",
     "output_type": "stream",
     "text": [
      "FRE = 129.71\n"
     ]
    }
   ],
   "source": [
    "print('FRE =', textstat.flesch_reading_ease(drobysh_data))"
   ]
  },
  {
   "cell_type": "code",
   "execution_count": 31,
   "metadata": {
    "collapsed": true
   },
   "outputs": [],
   "source": [
    "nplusonesimple = \"Люди, переживающие дежавю, иногда ощущают, что знают, что произойдет дальше, однако американские психологи пришли к выводу, что в реальности это ощущение не влияет на способность предсказывать дальнейшее развитие событий. В экспериментах в виртуальном пространстве ученые показали, что такое предчувствие не удается использовать так же эффективно для принятия решения, как реальные воспоминания, говорится в статье в журнале Psychological Science.\""
   ]
  },
  {
   "cell_type": "code",
   "execution_count": 33,
   "metadata": {},
   "outputs": [
    {
     "name": "stdout",
     "output_type": "stream",
     "text": [
      "FRE = 103.02\n"
     ]
    }
   ],
   "source": [
    "print('FRE =', textstat.flesch_reading_ease(nplusonesimple))"
   ]
  },
  {
   "cell_type": "code",
   "execution_count": 35,
   "metadata": {
    "collapsed": true
   },
   "outputs": [],
   "source": [
    "panikatacks = \"Иногда при панической атаке может возникать состояние дереализации или деперсонализации. В первом случае мир кажется измененным, отстраненным, словно в дымке. При деперсонализации собственное тело и/или психические процессы представляются измененными. При этом человек не может точно сказать, в чем суть изменений и что с ним не так, просто испытывает своего рода «ощущение чуждости». Во время панических атак пациенты начинают бояться, что они потеряют сознание, сойдут с ума, потеряют контроль над собой, начнут вести себя неадекватно, что окружающие сочтут их психически больными. Появляется страх смерти. Телесные симптомы паники могут быть настолько интенсивными, что начинает казаться, что сейчас умрешь: не хватает дыхания, сердце вот-вот выскочит из груди, и пациенты боятся, что у них сейчас случится сердечный приступ, инсульт или инфаркт. Эти симптомы называют вторичными\""
   ]
  },
  {
   "cell_type": "code",
   "execution_count": 36,
   "metadata": {},
   "outputs": [
    {
     "name": "stdout",
     "output_type": "stream",
     "text": [
      "FRE = 127.11\n"
     ]
    }
   ],
   "source": [
    "print('FRE =', textstat.flesch_reading_ease(panikatacks))"
   ]
  },
  {
   "cell_type": "code",
   "execution_count": 39,
   "metadata": {
    "collapsed": true
   },
   "outputs": [],
   "source": [
    "text_diff = \"Для удобства будем считать все величины в планковских единицах, в которых постоянная Планка, гравитационная постоянная, постоянная Больцмана, скорость света и коэффициент пропорциональности в законе Кулона полагаются равными единице: ħ = G = k = c = 4πε = 1. Если в тексте не указано, в чем именно измеряется размерная величина (например, плотность или расстояние), это значит, что она измеряется в планковских единицах. Кроме того, придерживаясь современных космологических представлений, предположим, что эволюция Вселенной описывается метрикой Фридмана-Леметра-Робертсона-Уолкера, в которой масштабный параметр a(t) растет степенным образом на ранних этапах и экспоненциально на поздних. Другими словами, эволюцию молодой Вселенной определяет материя, а старой — темная энергия:\""
   ]
  },
  {
   "cell_type": "code",
   "execution_count": 40,
   "metadata": {},
   "outputs": [
    {
     "name": "stdout",
     "output_type": "stream",
     "text": [
      "FRE = 109.14\n"
     ]
    }
   ],
   "source": [
    "print('FRE =', textstat.flesch_reading_ease(text_diff))"
   ]
  },
  {
   "cell_type": "code",
   "execution_count": null,
   "metadata": {
    "collapsed": true
   },
   "outputs": [],
   "source": []
  }
 ],
 "metadata": {
  "kernelspec": {
   "display_name": "Python 3",
   "language": "python",
   "name": "python3"
  },
  "language_info": {
   "codemirror_mode": {
    "name": "ipython",
    "version": 3
   },
   "file_extension": ".py",
   "mimetype": "text/x-python",
   "name": "python",
   "nbconvert_exporter": "python",
   "pygments_lexer": "ipython3",
   "version": "3.6.1"
  }
 },
 "nbformat": 4,
 "nbformat_minor": 2
}

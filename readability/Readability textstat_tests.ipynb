{
 "cells": [
  {
   "cell_type": "code",
   "execution_count": 1,
   "metadata": {
    "collapsed": true
   },
   "outputs": [],
   "source": [
    "from textstat.textstat import textstat #модуль для подсчета различных метрик ридабилити. настроен под англ. язык"
   ]
  },
  {
   "cell_type": "markdown",
   "metadata": {},
   "source": [
    "Тесты для русского и английского языка для textstat (без переопределеия коэффициента)"
   ]
  },
  {
   "cell_type": "code",
   "execution_count": 53,
   "metadata": {},
   "outputs": [],
   "source": [
    "def textstatres(data):\n",
    "    print('Flesch reading ease =', textstat.flesch_reading_ease(data)) # 90-100 : Very Easy, 0-29 : Very Confusing\n",
    "    print('SMOG index =', textstat.smog_index(data)) # считает количество слов, в которых более 3 слогов и их количество в предложениях. возвращает примерный уровень необходимого образования (в школьных классах)\n",
    "    print('Flesch kincaid grade =', textstat.flesch_kincaid_grade(data)) #100.00-90.00, 5th grade -- очень легко, понятно 11-летнему. 9,3 - ученику 9 класса, и т.д. \n",
    "    print('Coleman-Liau index =', textstat.coleman_liau_index(data)) #считает не количество слогов, а количество букв в словах. дает результат от 1 до 12 (школьные классы в США)\n",
    "    print('Automated readability index =', textstat.automated_readability_index(data)) #количество букв в слове и слов в предложении. U.S. grade level\n",
    "    print('Dale chall readability score =', textstat.dale_chall_readability_score(data)) #uses a lookup table of the most commonly used 3000 English words. Thus it returns the grade level using the New Dale-Chall Formula.\n",
    "    print('Difficult words =', textstat.difficult_words(data)) #? кол-во сложных слов относительно длины текста\n",
    "    print('Linsear write formula =', textstat.linsear_write_formula(data)) #разработана ждя подсчета сложности технических текстов на английском\n",
    "    print('Gunning fog =', textstat.gunning_fog(data)) #считает сложные слова (более 3 слогов), оценка -- от 1, нет верхнего предела. Статьи NYT обычно 11-12, тех. документация  -- 10-15, тексты \"для профессионалов\" -- от 18\n",
    "    print('Text_standard =', textstat.text_standard(data)) #присваивает уровень образования\n",
    "    #print('Syllables =', syllable_count(data)) #кол-во слогов\n",
    "    #print('Words =', lexicon_count(data, TRUE)) #кол-во слов, TRUE = без учета пунктуации\n",
    "    #print('Sentences =', sentence_count(data)) #кол-во предложений\n",
    "    #последние три функции не работают в python3 :(\n",
    "    "
   ]
  },
  {
   "cell_type": "code",
   "execution_count": 54,
   "metadata": {
    "collapsed": true
   },
   "outputs": [],
   "source": [
    "if __name__ == '__main__':\n",
    "        test_data = \"Playing games has always been thought to be important to the development of well-balanced and creative children; however, what part, if any, they should play in the lives of adults has never been researched that deeply. I believe that playing games is every bit as important for adults as for children. Not only is taking time out to play games with our children and other adults valuable to building interpersonal relationships but is also a wonderful way to release built up tension.\""
   ]
  },
  {
   "cell_type": "code",
   "execution_count": 55,
   "metadata": {},
   "outputs": [
    {
     "name": "stdout",
     "output_type": "stream",
     "text": [
      "Flesch reading ease = 52.23\n",
      "SMOG index = 12.5\n",
      "Flesch kincaid grade = 12.8\n",
      "Coleman-Liau index = 11.61\n",
      "Automated readability index = 15.5\n",
      "Dale chall readability score = 7.49\n",
      "Difficult words = 13\n",
      "Linsear write formula = 13.833333333333334\n",
      "Gunning fog = 19.26146341463415\n",
      "Text_standard = 12th and 13th grade\n"
     ]
    }
   ],
   "source": [
    "textstatres(test_data)"
   ]
  },
  {
   "cell_type": "code",
   "execution_count": 56,
   "metadata": {
    "collapsed": true
   },
   "outputs": [],
   "source": [
    "#отрывок из первой книги о Гарри Поттере\n",
    "if __name__ == '__main__':\n",
    "        HP_data = \"Mr. Dursley was the director of a firm called Grunnings, which made drills. He was a big, beefy man with hardly any neck, although he did have a very large mustache. Mrs. Dursley was thin and blonde and had nearly twice the usual amount of neck, which came in very useful as she spent so much of her time craning over garden fences, spying on the neighbors. The Dursleys had a small son called Dudley and in their opinion there was no finer boy anywhere.\""
   ]
  },
  {
   "cell_type": "code",
   "execution_count": 57,
   "metadata": {},
   "outputs": [
    {
     "name": "stdout",
     "output_type": "stream",
     "text": [
      "Flesch reading ease = 83.7\n",
      "SMOG index = 6.0\n",
      "Flesch kincaid grade = 6.9\n",
      "Coleman-Liau index = 7.95\n",
      "Automated readability index = 9.7\n",
      "Dale chall readability score = 7.29\n",
      "Difficult words = 14\n",
      "Linsear write formula = 10.5\n",
      "Gunning fog = 17.108235294117645\n",
      "Text_standard = 7th and 8th grade\n"
     ]
    }
   ],
   "source": [
    "textstatres(HP_data)"
   ]
  },
  {
   "cell_type": "code",
   "execution_count": 58,
   "metadata": {
    "collapsed": true
   },
   "outputs": [],
   "source": [
    "if __name__ == '__main__':\n",
    "        postnauka_data = \"Начать, пожалуй, стоит с проблем изучения римской юриспруденции, и связаны они прежде всего с источниками нашей информации о ней. К величайшему сожалению многих исследователей-романистов, не сохранилось практически ни одного подлинного произведения римских юристов периода расцвета, за исключением учебника Гая и фрагментов произведений Ульпиана и Павла — все это юристы II–III веков нашей эры. Все, что мы знаем о римской юриспруденции, мы знаем благодаря компиляции из этих произведений, составленной византийскими юристами в VI веке по распоряжению императора Юстиниана. Это «выборка» из их сочинений, которая дает много информации, но не дает всей информации о том, чем занимались римские юристы.\""
   ]
  },
  {
   "cell_type": "code",
   "execution_count": 59,
   "metadata": {},
   "outputs": [
    {
     "name": "stdout",
     "output_type": "stream",
     "text": [
      "Flesch reading ease = 97.57\n",
      "SMOG index = 3.1\n",
      "Flesch kincaid grade = 5.7\n",
      "Coleman-Liau index = 19.15\n",
      "Automated readability index = 20.0\n",
      "Dale chall readability score = 1.37\n",
      "Difficult words = 1\n",
      "Linsear write formula = 12.125\n",
      "Gunning fog = 12.13237113402062\n",
      "Text_standard = 19th and 20th grade\n"
     ]
    }
   ],
   "source": [
    "textstatres(postnauka_data)"
   ]
  },
  {
   "cell_type": "code",
   "execution_count": 60,
   "metadata": {
    "collapsed": true
   },
   "outputs": [],
   "source": [
    "if __name__ == '__main__':\n",
    "        drobysh_data = \"На самом деле даже у наших ближайших родственников — обезьян — детство уже выделяется в отдельную сферу. Детишки обезьян гораздо больше играют, чем взрослые, а потом они становятся очень серьезными. У девочек-шимпанзят есть игрушки в виде как бы кукол, такие палочки. В принципе, это просто палочки, которые никак не сделаны и даже не обработаны. Но судя по тому, как с ними носятся, как их нянчат, таскают на руках, спать укладывают, это настоящие куклы. Это у шимпанзе, у обезьян! Наверное, и у каких-то наших чуть более интеллектуальных предков, чем шимпанзе, например у австралопитеков, что-то подобное тоже было. Другое дело, что палочка в ископаемом виде не сохраняется.\""
   ]
  },
  {
   "cell_type": "code",
   "execution_count": 61,
   "metadata": {},
   "outputs": [
    {
     "name": "stdout",
     "output_type": "stream",
     "text": [
      "Flesch reading ease = 108.94\n",
      "SMOG index = 3.1\n",
      "Flesch kincaid grade = 1.3\n",
      "Coleman-Liau index = 13.44\n",
      "Automated readability index = 10.8\n",
      "Dale chall readability score = 0.65\n",
      "Difficult words = 0\n",
      "Linsear write formula = 5.375\n",
      "Gunning fog = 7.240000000000001\n",
      "Text_standard = 0th and 1th grade\n"
     ]
    }
   ],
   "source": [
    "textstatres(drobysh_data) "
   ]
  },
  {
   "cell_type": "code",
   "execution_count": 62,
   "metadata": {
    "collapsed": true
   },
   "outputs": [],
   "source": [
    "#абзац текста из статьи на n+1, помеченной по уровню сложности как 2,7 (имхо тоже довольно простой текст)\n",
    "if __name__ == '__main__':\n",
    "        nplusonesimple = \"Люди, переживающие дежавю, иногда ощущают, что знают, что произойдет дальше, однако американские психологи пришли к выводу, что в реальности это ощущение не влияет на способность предсказывать дальнейшее развитие событий. В экспериментах в виртуальном пространстве ученые показали, что такое предчувствие не удается использовать так же эффективно для принятия решения, как реальные воспоминания, говорится в статье в журнале Psychological Science.\""
   ]
  },
  {
   "cell_type": "code",
   "execution_count": 63,
   "metadata": {},
   "outputs": [
    {
     "name": "stdout",
     "output_type": "stream",
     "text": [
      "Flesch reading ease = 84.34\n",
      "SMOG index = 0\n",
      "Flesch kincaid grade = 8.7\n",
      "Coleman-Liau index = 22.29\n",
      "Automated readability index = 24.7\n",
      "Dale chall readability score = 1.98\n",
      "Difficult words = 2\n",
      "Linsear write formula = 15.0\n",
      "Gunning fog = 14.979310344827589\n",
      "Text_standard = 14th and 15th grade\n"
     ]
    }
   ],
   "source": [
    "textstatres(nplusonesimple) "
   ]
  },
  {
   "cell_type": "markdown",
   "metadata": {},
   "source": [
    "На материалах русского языка заметно, в каких случаях возникают проблемы. Например, для английского SMOG, FKG, CLI и некоторые другие формулы дают примерно одинаковые оценку (различие до 1,5), на русском языке дают противоречивые результаты. "
   ]
  },
  {
   "cell_type": "code",
   "execution_count": null,
   "metadata": {
    "collapsed": true
   },
   "outputs": [],
   "source": []
  }
 ],
 "metadata": {
  "kernelspec": {
   "display_name": "Python 3",
   "language": "python",
   "name": "python3"
  },
  "language_info": {
   "codemirror_mode": {
    "name": "ipython",
    "version": 3
   },
   "file_extension": ".py",
   "mimetype": "text/x-python",
   "name": "python",
   "nbconvert_exporter": "python",
   "pygments_lexer": "ipython3",
   "version": "3.6.1"
  }
 },
 "nbformat": 4,
 "nbformat_minor": 2
}

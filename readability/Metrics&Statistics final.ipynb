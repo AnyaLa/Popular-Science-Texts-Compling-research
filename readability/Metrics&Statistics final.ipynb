{
 "cells": [
  {
   "cell_type": "markdown",
   "metadata": {},
   "source": [
    "### Открываем текст и считаем простые элементы, которые лягут в основу более сложных метрик"
   ]
  },
  {
   "cell_type": "code",
   "execution_count": 27,
   "metadata": {
    "collapsed": true
   },
   "outputs": [],
   "source": [
    "text = open(\"random_text.txt\", \"r\", encoding = \"utf-8\")"
   ]
  },
  {
   "cell_type": "code",
   "execution_count": 28,
   "metadata": {
    "collapsed": true
   },
   "outputs": [],
   "source": [
    "import re"
   ]
  },
  {
   "cell_type": "code",
   "execution_count": 29,
   "metadata": {
    "collapsed": true
   },
   "outputs": [],
   "source": [
    "ftext = list(map(lambda x:x.strip(), text))\n",
    "string_text = ' '.join(ftext)"
   ]
  },
  {
   "cell_type": "code",
   "execution_count": 30,
   "metadata": {},
   "outputs": [
    {
     "data": {
      "text/plain": [
       "'Болевой порог — это не совсем конкретное понятие. То, что под этим термином понимают пациенты и врачи, несколько различается. Пытаясь суммировать и обобщить понятие болевого порога, мы получим условную степень воздействия на организм человека, при превышении которой мы ощущаем то, что называется болью. Боль — это неприятное сенсорное и эмоциональное переживание, связанное с текущим или возможным тканевым повреждением, либо описываемое в терминах такого повреждения (определение Международной ассоциации по изучению боли, IASP). Значение болевого порога для практической жизни несколько преувеличено. Так, в научно-исследовательской деятельности это важный показатель в ряде работ, вместе с которым исследуют порог возникновения болевого ощущения, порог переносимости боли, порог температурной боли, порог прессорной боли. Также оценивают порог возникновения защитных рефлексов, возникающих в ответ на управляемое по силе болевое раздражение (ноцицептивный флексорный рефлекс, мигательный рефлекс). В практической медицине подобные методики исследуются редко в связи с неоднозначностью их понимания. В обыденной жизни под порогом боли зачастую понимают степень выраженности видимой — двигательной или вербальной — реакции на боль, однако это не совсем правильное использование термина, оно больше соответствует понятию порога переносимости боли. Сам болевой порог именно как восприятие болевого ощущения зависит от множества факторов. На восприятие болевого ощущения влияет предшествующий жизненный опыт, в том числе «болевой анамнез», социокультурные факторы, семейные традиции, уровень мотивированности человека в конкретный момент времени, наличие сопутствующих эмоциональных или психических нарушений (депрессии или тревожного расстройства), нарушение сна, общий уровень усталости человека, уровень воспринимаемого стресса, а также гормональный уровень (в том числе фаза цикла у женщин). Реакция на болевое ощущение — это поведение, еще больше зависящее от средовых и культурных факторов, а также индивидуальных понятий приемлемого поведения, уровня демонстративности и прочих факторов. Так, есть религиозные слои, в которых боль воспринимается как искупление грехов, есть пациенты с серьезными повреждениями спинного мозга, которых информируют, что наличие боли — это обязательный показатель «восстановления» нервных структур (что не совсем соответствует действительности). Неизвестная боль, с которой пациент ранее не был «знаком», вызывает большую реакцию, чем известная или ожидаемая. Боль от физической нагрузки в спортивном зале может быть ожидаема как «символ» успешной тренировки и ожидаемого прибавления мышечной массы (что также не соответствует действительности). Боль, с которой регулярно встречаются женщины, редко воспринимается ими как повод для обращения за медицинской помощью, так как это боль, ранее уже встречавшаяся, с известными причинами и длительностью. В медицинской среде использование понятия болевого порога и его применение возможно у пациентов с хроническими болевыми синдромами, в том числе с головными болями, с возможным наличием эмоциональных нарушений, живущих в условиях хронического стресса и так далее. Считается, что группами препаратов, которые поддерживают и модулируют уровень болевого порога, являются антидепрессанты и антиконвульсанты.'"
      ]
     },
     "execution_count": 30,
     "metadata": {},
     "output_type": "execute_result"
    }
   ],
   "source": [
    "string_text"
   ]
  },
  {
   "cell_type": "markdown",
   "metadata": {},
   "source": [
    "### 1. Количество предложений в тексте + разбить текст на отдельные предложения"
   ]
  },
  {
   "cell_type": "code",
   "execution_count": 31,
   "metadata": {
    "collapsed": true
   },
   "outputs": [],
   "source": [
    "def sentence_splitter(text):\n",
    "    sent_list = re.split(' *[\\.\\?!][\\'\"\\)\\]]* ', text)\n",
    "    return sent_list\n"
   ]
  },
  {
   "cell_type": "code",
   "execution_count": 32,
   "metadata": {},
   "outputs": [
    {
     "name": "stdout",
     "output_type": "stream",
     "text": [
      "['Болевой порог — это не совсем конкретное понятие', 'То, что под этим термином понимают пациенты и врачи, несколько различается', 'Пытаясь суммировать и обобщить понятие болевого порога, мы получим условную степень воздействия на организм человека, при превышении которой мы ощущаем то, что называется болью', 'Боль — это неприятное сенсорное и эмоциональное переживание, связанное с текущим или возможным тканевым повреждением, либо описываемое в терминах такого повреждения (определение Международной ассоциации по изучению боли, IASP)', 'Значение болевого порога для практической жизни несколько преувеличено', 'Так, в научно-исследовательской деятельности это важный показатель в ряде работ, вместе с которым исследуют порог возникновения болевого ощущения, порог переносимости боли, порог температурной боли, порог прессорной боли', 'Также оценивают порог возникновения защитных рефлексов, возникающих в ответ на управляемое по силе болевое раздражение (ноцицептивный флексорный рефлекс, мигательный рефлекс)', 'В практической медицине подобные методики исследуются редко в связи с неоднозначностью их понимания', 'В обыденной жизни под порогом боли зачастую понимают степень выраженности видимой — двигательной или вербальной — реакции на боль, однако это не совсем правильное использование термина, оно больше соответствует понятию порога переносимости боли', 'Сам болевой порог именно как восприятие болевого ощущения зависит от множества факторов', 'На восприятие болевого ощущения влияет предшествующий жизненный опыт, в том числе «болевой анамнез», социокультурные факторы, семейные традиции, уровень мотивированности человека в конкретный момент времени, наличие сопутствующих эмоциональных или психических нарушений (депрессии или тревожного расстройства), нарушение сна, общий уровень усталости человека, уровень воспринимаемого стресса, а также гормональный уровень (в том числе фаза цикла у женщин)', 'Реакция на болевое ощущение — это поведение, еще больше зависящее от средовых и культурных факторов, а также индивидуальных понятий приемлемого поведения, уровня демонстративности и прочих факторов', 'Так, есть религиозные слои, в которых боль воспринимается как искупление грехов, есть пациенты с серьезными повреждениями спинного мозга, которых информируют, что наличие боли — это обязательный показатель «восстановления» нервных структур (что не совсем соответствует действительности)', 'Неизвестная боль, с которой пациент ранее не был «знаком», вызывает большую реакцию, чем известная или ожидаемая', 'Боль от физической нагрузки в спортивном зале может быть ожидаема как «символ» успешной тренировки и ожидаемого прибавления мышечной массы (что также не соответствует действительности)', 'Боль, с которой регулярно встречаются женщины, редко воспринимается ими как повод для обращения за медицинской помощью, так как это боль, ранее уже встречавшаяся, с известными причинами и длительностью', 'В медицинской среде использование понятия болевого порога и его применение возможно у пациентов с хроническими болевыми синдромами, в том числе с головными болями, с возможным наличием эмоциональных нарушений, живущих в условиях хронического стресса и так далее', 'Считается, что группами препаратов, которые поддерживают и модулируют уровень болевого порога, являются антидепрессанты и антиконвульсанты.']\n"
     ]
    }
   ],
   "source": [
    "print(sentence_splitter(string_text))"
   ]
  },
  {
   "cell_type": "code",
   "execution_count": 33,
   "metadata": {},
   "outputs": [
    {
     "name": "stdout",
     "output_type": "stream",
     "text": [
      "18\n"
     ]
    }
   ],
   "source": [
    "print(len(sentence_splitter(string_text)))"
   ]
  },
  {
   "cell_type": "markdown",
   "metadata": {},
   "source": [
    "### 2. Количество слов в тексте. Количество слов в предложении. Средняя длина предложения (в словах)"
   ]
  },
  {
   "cell_type": "code",
   "execution_count": 34,
   "metadata": {},
   "outputs": [
    {
     "data": {
      "text/plain": [
       "418"
      ]
     },
     "execution_count": 34,
     "metadata": {},
     "output_type": "execute_result"
    }
   ],
   "source": [
    "len(string_text.split())"
   ]
  },
  {
   "cell_type": "code",
   "execution_count": 35,
   "metadata": {
    "collapsed": true
   },
   "outputs": [],
   "source": [
    "def avg_sentence_length(text):\n",
    "    tl = len(text.split())\n",
    "    sn = len(sentence_splitter(text))\n",
    "    ASL = float(tl/sn)\n",
    "    return round(tl/sn, 1)"
   ]
  },
  {
   "cell_type": "code",
   "execution_count": 107,
   "metadata": {},
   "outputs": [
    {
     "data": {
      "text/plain": [
       "23.2"
      ]
     },
     "execution_count": 107,
     "metadata": {},
     "output_type": "execute_result"
    }
   ],
   "source": [
    "avg_sentence_length(string_text)"
   ]
  },
  {
   "cell_type": "code",
   "execution_count": 124,
   "metadata": {},
   "outputs": [],
   "source": [
    "def avg_sent_per_word(text):\n",
    "    ASPW = float(len(sentence_splitter(text)))/float(len(text.split()))\n",
    "    return round(ASPW, 2)\n"
   ]
  },
  {
   "cell_type": "code",
   "execution_count": 125,
   "metadata": {},
   "outputs": [
    {
     "data": {
      "text/plain": [
       "0.04"
      ]
     },
     "execution_count": 125,
     "metadata": {},
     "output_type": "execute_result"
    }
   ],
   "source": [
    "avg_sent_per_word(string_text)"
   ]
  },
  {
   "cell_type": "markdown",
   "metadata": {},
   "source": [
    "### 3. Количество символов в тексте. Средняя длина слова."
   ]
  },
  {
   "cell_type": "code",
   "execution_count": 37,
   "metadata": {
    "collapsed": true
   },
   "outputs": [],
   "source": [
    "def char_count(text, ignore_spaces=True):\n",
    "    if ignore_spaces:\n",
    "        text = text.replace(\" \", \"\")\n",
    "    return len(text)"
   ]
  },
  {
   "cell_type": "code",
   "execution_count": 38,
   "metadata": {},
   "outputs": [
    {
     "data": {
      "text/plain": [
       "2870"
      ]
     },
     "execution_count": 38,
     "metadata": {},
     "output_type": "execute_result"
    }
   ],
   "source": [
    "char_count(string_text)"
   ]
  },
  {
   "cell_type": "code",
   "execution_count": 39,
   "metadata": {
    "collapsed": true
   },
   "outputs": [],
   "source": [
    "def avg_letter_per_word(text):\n",
    "    ALPW = float(float(char_count(text))/float(len(text.split())))\n",
    "    return round(ALPW, 2)\n"
   ]
  },
  {
   "cell_type": "code",
   "execution_count": 40,
   "metadata": {},
   "outputs": [
    {
     "data": {
      "text/plain": [
       "6.87"
      ]
     },
     "execution_count": 40,
     "metadata": {},
     "output_type": "execute_result"
    }
   ],
   "source": [
    "avg_letter_per_word(string_text)"
   ]
  },
  {
   "cell_type": "code",
   "execution_count": 41,
   "metadata": {},
   "outputs": [],
   "source": [
    "def avg_letter_per_sent(text):\n",
    "    ALPS = float(float(char_count(text))/float(len(sentence_splitter(text))))\n",
    "    return round(ALPS, 2)"
   ]
  },
  {
   "cell_type": "code",
   "execution_count": 42,
   "metadata": {},
   "outputs": [
    {
     "data": {
      "text/plain": [
       "159.44"
      ]
     },
     "execution_count": 42,
     "metadata": {},
     "output_type": "execute_result"
    }
   ],
   "source": [
    "avg_letter_per_sent(string_text)"
   ]
  },
  {
   "cell_type": "markdown",
   "metadata": {},
   "source": [
    "### 4. Подсчет слогов"
   ]
  },
  {
   "cell_type": "code",
   "execution_count": 43,
   "metadata": {
    "collapsed": true
   },
   "outputs": [],
   "source": [
    "from pyphen import Pyphen #модуль для разбиения слов на слоги от спеллчекера HunSpell + русский словарь\n",
    "import string"
   ]
  },
  {
   "cell_type": "code",
   "execution_count": 44,
   "metadata": {
    "collapsed": true
   },
   "outputs": [],
   "source": [
    "exclude = list(string.punctuation)"
   ]
  },
  {
   "cell_type": "code",
   "execution_count": 45,
   "metadata": {
    "collapsed": true
   },
   "outputs": [],
   "source": [
    "def syllable_count(text): #cколько слогов в тексте\n",
    "    text = text.lower()\n",
    "    text = \"\".join(x for x in text if x not in exclude)\n",
    "    dic = Pyphen(lang='ru_RU')\n",
    "    count = 0\n",
    "    for word in text.split(' '):\n",
    "        word_hyphenated = dic.inserted(word)\n",
    "        count += max(1, word_hyphenated.count(\"-\") + 1)\n",
    "    return count\n"
   ]
  },
  {
   "cell_type": "code",
   "execution_count": 46,
   "metadata": {},
   "outputs": [
    {
     "data": {
      "text/plain": [
       "1119"
      ]
     },
     "execution_count": 46,
     "metadata": {},
     "output_type": "execute_result"
    }
   ],
   "source": [
    "syllable_count(string_text)"
   ]
  },
  {
   "cell_type": "code",
   "execution_count": 47,
   "metadata": {
    "collapsed": true
   },
   "outputs": [],
   "source": [
    "def avg_syllab_per_word(text):\n",
    "    ALPW = float(float(syllable_count(text))/float(len(text.split())))\n",
    "    return round(ALPW, 2)"
   ]
  },
  {
   "cell_type": "code",
   "execution_count": 48,
   "metadata": {},
   "outputs": [
    {
     "data": {
      "text/plain": [
       "2.68"
      ]
     },
     "execution_count": 48,
     "metadata": {},
     "output_type": "execute_result"
    }
   ],
   "source": [
    "avg_syllab_per_word(string_text)"
   ]
  },
  {
   "cell_type": "code",
   "execution_count": 49,
   "metadata": {
    "collapsed": true
   },
   "outputs": [],
   "source": [
    "def avg_syllab_per_sent(text):\n",
    "    ALPW = float(float(syllable_count(text))/float(len(sentence_splitter(text))))\n",
    "    return round(ALPW, 2)"
   ]
  },
  {
   "cell_type": "code",
   "execution_count": 52,
   "metadata": {},
   "outputs": [
    {
     "data": {
      "text/plain": [
       "62.17"
      ]
     },
     "execution_count": 52,
     "metadata": {},
     "output_type": "execute_result"
    }
   ],
   "source": [
    "avg_syllab_per_sent(string_text)"
   ]
  },
  {
   "cell_type": "code",
   "execution_count": 83,
   "metadata": {},
   "outputs": [],
   "source": [
    "#сложные слова? считаем для русского больше 3 или больше 4 слогов?\n",
    "def diffsyll(text):\n",
    "    count = 0\n",
    "    for word in text.split():\n",
    "        wrds = syllable_count(word)\n",
    "        #if wrds >= 3:\n",
    "        if wrds >= 4:\n",
    "            count += 1\n",
    "    return count"
   ]
  },
  {
   "cell_type": "code",
   "execution_count": 84,
   "metadata": {},
   "outputs": [
    {
     "data": {
      "text/plain": [
       "122"
      ]
     },
     "execution_count": 84,
     "metadata": {},
     "output_type": "execute_result"
    }
   ],
   "source": [
    "diffsyll(string_text)"
   ]
  },
  {
   "cell_type": "code",
   "execution_count": 132,
   "metadata": {
    "collapsed": true
   },
   "outputs": [],
   "source": [
    "def simple_metrics(text):\n",
    "    print('Количество предложений в тексте:', len(sentence_splitter(text)))\n",
    "    print('Количество слов в тексте:', len(text.split()))\n",
    "    print('Средняя длина предложений:', avg_sentence_length(text))\n",
    "    print('Количество символов в тексте:', char_count(text))\n",
    "    print('Средняя длина слова:', avg_letter_per_word(text))\n",
    "    print('Средняя длина предложений в символах:', avg_letter_per_sent(text))\n",
    "    print('Количество слогов в тексте:', syllable_count(text))\n",
    "    print('Среднее количество слогов в слове:', avg_syllab_per_word(text))\n",
    "    print('Среднее количеcтво слогов в предложении:', avg_syllab_per_sent(text))\n",
    "    print('Количество сложных слов в тексте:', diffsyll(text))\n",
    "    "
   ]
  },
  {
   "cell_type": "code",
   "execution_count": 133,
   "metadata": {},
   "outputs": [
    {
     "name": "stdout",
     "output_type": "stream",
     "text": [
      "Количество предложений в тексте: 18\n",
      "Количество слов в тексте: 418\n",
      "Средняя длина предложений: 23.2\n",
      "Количество символов в тексте: 2870\n",
      "Средняя длина слова: 6.87\n",
      "Средняя длина предложений в символах: 159.44\n",
      "Количество слогов в тексте: 1119\n",
      "Среднее количество слогов в слове: 2.68\n",
      "Среднее количеcтво слогов в предложении: 62.17\n",
      "Количество сложных слов в тексте: 122\n"
     ]
    }
   ],
   "source": [
    "simple_metrics(string_text)"
   ]
  },
  {
   "cell_type": "markdown",
   "metadata": {},
   "source": [
    "### Считаем простые метрики: коэффициенты для русского и английского"
   ]
  },
  {
   "cell_type": "markdown",
   "metadata": {},
   "source": [
    "Для примера: мера Флеша для рус. языка"
   ]
  },
  {
   "cell_type": "code",
   "execution_count": 54,
   "metadata": {
    "collapsed": true
   },
   "outputs": [],
   "source": [
    "def flesch_RE(text):\n",
    "    ASL = avg_sentence_length(text)\n",
    "    ASW = avg_syllab_per_word(text)\n",
    "    FRE = 206.835 - float(1.3 * ASL) - float(60.6 * ASW)\n",
    "    return round(FRE, 2)"
   ]
  },
  {
   "cell_type": "code",
   "execution_count": 55,
   "metadata": {},
   "outputs": [
    {
     "data": {
      "text/plain": [
       "14.27"
      ]
     },
     "execution_count": 55,
     "metadata": {},
     "output_type": "execute_result"
    }
   ],
   "source": [
    "flesch_RE(string_text)"
   ]
  },
  {
   "cell_type": "markdown",
   "metadata": {
    "collapsed": true
   },
   "source": [
    "Flesch-Kincaid grade level"
   ]
  },
  {
   "cell_type": "code",
   "execution_count": 111,
   "metadata": {
    "collapsed": true
   },
   "outputs": [],
   "source": [
    "def flesch_kincaid_grade(text):\n",
    "    ASL = avg_sentence_length(text)\n",
    "    ASW = avg_syllab_per_word(text)\n",
    "    #английский язык!\n",
    "    #FKRA = float(0.39 * ASL) + float(11.8 * ASW) - 15.59\n",
    "    #русский\n",
    "    FKRA = float(0.49 * ASL) + float(7.3 * ASW) - 16.59\n",
    "    return round(FKRA, 1)"
   ]
  },
  {
   "cell_type": "code",
   "execution_count": 112,
   "metadata": {},
   "outputs": [
    {
     "data": {
      "text/plain": [
       "14.3"
      ]
     },
     "execution_count": 112,
     "metadata": {},
     "output_type": "execute_result"
    }
   ],
   "source": [
    "flesch_kincaid_grade(string_text)"
   ]
  },
  {
   "cell_type": "markdown",
   "metadata": {},
   "source": [
    "SMOG"
   ]
  },
  {
   "cell_type": "code",
   "execution_count": 85,
   "metadata": {},
   "outputs": [],
   "source": [
    "def smog_index(text): \n",
    "    if len(sentence_splitter(string_text)) >= 3:\n",
    "        poly_syllab = diffsyll(text)\n",
    "        SMOG = (1.043 * (30*(poly_syllab/len(sentence_splitter(text))))**.5) + 3.1291\n",
    "        return round(SMOG, 1)\n",
    "    else:\n",
    "        return 0"
   ]
  },
  {
   "cell_type": "code",
   "execution_count": 86,
   "metadata": {},
   "outputs": [
    {
     "data": {
      "text/plain": [
       "18.0"
      ]
     },
     "execution_count": 86,
     "metadata": {},
     "output_type": "execute_result"
    }
   ],
   "source": [
    "smog_index(string_text)"
   ]
  },
  {
   "cell_type": "code",
   "execution_count": 99,
   "metadata": {
    "collapsed": true
   },
   "outputs": [],
   "source": [
    "def coleman_liau_index(text):\n",
    "    L = round(avg_letter_per_word(text)*100, 2)\n",
    "    S = round(avg_sent_per_word(text)*100, 2)\n",
    "    CLI = float((0.058 * L) - (0.296 * S) - 15.8)\n",
    "    return round(CLI, 2)"
   ]
  },
  {
   "cell_type": "code",
   "execution_count": 100,
   "metadata": {},
   "outputs": [
    {
     "data": {
      "text/plain": [
       "22.86"
      ]
     },
     "execution_count": 100,
     "metadata": {},
     "output_type": "execute_result"
    }
   ],
   "source": [
    "coleman_liau_index(string_text)"
   ]
  },
  {
   "cell_type": "code",
   "execution_count": 105,
   "metadata": {
    "collapsed": true
   },
   "outputs": [],
   "source": [
    "def dale_chall_score(text): #т.к. делаем сложные слова как 4 слога, все ок \n",
    "    word_count = len(string_text.split())\n",
    "    count = word_count - diffsyll(text)\n",
    "    per = float(count)/float(word_count)*100\n",
    "    difficult_words = 100-per\n",
    "    if difficult_words > 5:\n",
    "        score = (0.1579 * difficult_words) + (0.0496 * avg_sentence_length(text)) + 3.6365\n",
    "    else:\n",
    "        score = (0.1579 * difficult_words) + (0.0496 * avg_sentence_length(text))\n",
    "    return round(score, 2)"
   ]
  },
  {
   "cell_type": "code",
   "execution_count": 106,
   "metadata": {},
   "outputs": [
    {
     "data": {
      "text/plain": [
       "9.4"
      ]
     },
     "execution_count": 106,
     "metadata": {},
     "output_type": "execute_result"
    }
   ],
   "source": [
    "dale_chall_score(string_text)"
   ]
  },
  {
   "cell_type": "code",
   "execution_count": 118,
   "metadata": {},
   "outputs": [],
   "source": [
    "def gunning_fog(text):\n",
    "    per_diff_words = (diffsyll(text)/len(string_text.split())*100) + 5\n",
    "    grade = 0.4*(avg_sentence_length(text) + per_diff_words)\n",
    "    return round(grade,1)\n",
    "       "
   ]
  },
  {
   "cell_type": "code",
   "execution_count": 119,
   "metadata": {},
   "outputs": [
    {
     "data": {
      "text/plain": [
       "23.0"
      ]
     },
     "execution_count": 119,
     "metadata": {},
     "output_type": "execute_result"
    }
   ],
   "source": [
    "gunning_fog(string_text)"
   ]
  },
  {
   "cell_type": "code",
   "execution_count": 122,
   "metadata": {
    "collapsed": true
   },
   "outputs": [],
   "source": [
    "def count_statistics(text):\n",
    "    print('Russian Flesh reading Ease =', flesch_RE(text))\n",
    "    print('Russian Flesh-Kincaid Grade =', flesch_kincaid_grade(text))\n",
    "    print('Russian SMOG =', smog_index(text))\n",
    "    print('Russian CLI =', coleman_liau_index(text))\n",
    "    print('Russian DCH =', dale_chall_score(text))\n",
    "    print('Russian Gunning Fog =', gunning_fog(text))\n",
    "    "
   ]
  },
  {
   "cell_type": "code",
   "execution_count": 123,
   "metadata": {},
   "outputs": [
    {
     "name": "stdout",
     "output_type": "stream",
     "text": [
      "Russian Flesh reading Ease = 14.27\n",
      "Russian Flesh-Kincaid Grade = 14.3\n",
      "Russian SMOG = 18.0\n",
      "Russian CLI = 22.86\n",
      "Russian DCH = 9.4\n",
      "Russian Gunning Fog = 23.0\n"
     ]
    }
   ],
   "source": [
    "count_statistics(string_text)"
   ]
  }
 ],
 "metadata": {
  "kernelspec": {
   "display_name": "Python 3",
   "language": "python",
   "name": "python3"
  },
  "language_info": {
   "codemirror_mode": {
    "name": "ipython",
    "version": 3
   },
   "file_extension": ".py",
   "mimetype": "text/x-python",
   "name": "python",
   "nbconvert_exporter": "python",
   "pygments_lexer": "ipython3",
   "version": "3.6.1"
  }
 },
 "nbformat": 4,
 "nbformat_minor": 2
}

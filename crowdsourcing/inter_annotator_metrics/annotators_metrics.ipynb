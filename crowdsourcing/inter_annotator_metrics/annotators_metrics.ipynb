{
 "cells": [
  {
   "cell_type": "markdown",
   "metadata": {},
   "source": [
    "Открываем сводную таблицу с помощью pandas (10 аннотаторов, 7 текстов)"
   ]
  },
  {
   "cell_type": "code",
   "execution_count": 8,
   "metadata": {},
   "outputs": [
    {
     "data": {
      "text/html": [
       "<div>\n",
       "<table border=\"1\" class=\"dataframe\">\n",
       "  <thead>\n",
       "    <tr style=\"text-align: right;\">\n",
       "      <th></th>\n",
       "      <th>text1</th>\n",
       "      <th>text2</th>\n",
       "      <th>text3</th>\n",
       "      <th>text4</th>\n",
       "      <th>text5</th>\n",
       "      <th>text6</th>\n",
       "      <th>text7</th>\n",
       "    </tr>\n",
       "  </thead>\n",
       "  <tbody>\n",
       "    <tr>\n",
       "      <th>Annotator1</th>\n",
       "      <td>Нейронауки</td>\n",
       "      <td>Культура</td>\n",
       "      <td>История</td>\n",
       "      <td>История</td>\n",
       "      <td>Физика</td>\n",
       "      <td>Биология</td>\n",
       "      <td>Культура</td>\n",
       "    </tr>\n",
       "    <tr>\n",
       "      <th>Annotator2</th>\n",
       "      <td>Нейронауки</td>\n",
       "      <td>Культура</td>\n",
       "      <td>Биология</td>\n",
       "      <td>История</td>\n",
       "      <td>Физика</td>\n",
       "      <td>Биология</td>\n",
       "      <td>Культура</td>\n",
       "    </tr>\n",
       "    <tr>\n",
       "      <th>Annotator3</th>\n",
       "      <td>Нейронауки</td>\n",
       "      <td>История</td>\n",
       "      <td>История</td>\n",
       "      <td>История</td>\n",
       "      <td>Физика</td>\n",
       "      <td>Биология</td>\n",
       "      <td>Культура</td>\n",
       "    </tr>\n",
       "    <tr>\n",
       "      <th>Annotator4</th>\n",
       "      <td>Нейронауки</td>\n",
       "      <td>Культура</td>\n",
       "      <td>Биология</td>\n",
       "      <td>История</td>\n",
       "      <td>Физика</td>\n",
       "      <td>Психология</td>\n",
       "      <td>Культура</td>\n",
       "    </tr>\n",
       "    <tr>\n",
       "      <th>Annotator5</th>\n",
       "      <td>Нейронауки</td>\n",
       "      <td>Культура</td>\n",
       "      <td>Биология</td>\n",
       "      <td>История</td>\n",
       "      <td>Математика</td>\n",
       "      <td>Биология</td>\n",
       "      <td>Культура</td>\n",
       "    </tr>\n",
       "    <tr>\n",
       "      <th>Annotator6</th>\n",
       "      <td>Нейронауки</td>\n",
       "      <td>История</td>\n",
       "      <td>История</td>\n",
       "      <td>Культура</td>\n",
       "      <td>Физика</td>\n",
       "      <td>Биология</td>\n",
       "      <td>Культура</td>\n",
       "    </tr>\n",
       "    <tr>\n",
       "      <th>Annotator7</th>\n",
       "      <td>Нейронауки</td>\n",
       "      <td>Философия</td>\n",
       "      <td>Биология</td>\n",
       "      <td>История</td>\n",
       "      <td>Математика</td>\n",
       "      <td>Биология</td>\n",
       "      <td>Философия</td>\n",
       "    </tr>\n",
       "    <tr>\n",
       "      <th>Annotator8</th>\n",
       "      <td>Нейронауки</td>\n",
       "      <td>История</td>\n",
       "      <td>Биология</td>\n",
       "      <td>История</td>\n",
       "      <td>Физика</td>\n",
       "      <td>Нейронауки</td>\n",
       "      <td>Культура</td>\n",
       "    </tr>\n",
       "    <tr>\n",
       "      <th>Annotator9</th>\n",
       "      <td>Нейронауки</td>\n",
       "      <td>Культура</td>\n",
       "      <td>История</td>\n",
       "      <td>История</td>\n",
       "      <td>Физика</td>\n",
       "      <td>Биология</td>\n",
       "      <td>Культура</td>\n",
       "    </tr>\n",
       "    <tr>\n",
       "      <th>Annotator10</th>\n",
       "      <td>Нейронауки</td>\n",
       "      <td>Культура</td>\n",
       "      <td>Биология</td>\n",
       "      <td>История</td>\n",
       "      <td>Физика</td>\n",
       "      <td>Биология</td>\n",
       "      <td>Культура</td>\n",
       "    </tr>\n",
       "  </tbody>\n",
       "</table>\n",
       "</div>"
      ],
      "text/plain": [
       "                  text1      text2     text3     text4       text5  \\\n",
       "Annotator1   Нейронауки   Культура   История   История      Физика   \n",
       "Annotator2   Нейронауки   Культура  Биология   История      Физика   \n",
       "Annotator3   Нейронауки    История   История   История      Физика   \n",
       "Annotator4   Нейронауки   Культура  Биология   История      Физика   \n",
       "Annotator5   Нейронауки   Культура  Биология   История  Математика   \n",
       "Annotator6   Нейронауки    История   История  Культура      Физика   \n",
       "Annotator7   Нейронауки  Философия  Биология   История  Математика   \n",
       "Annotator8   Нейронауки    История  Биология   История      Физика   \n",
       "Annotator9   Нейронауки   Культура   История   История      Физика   \n",
       "Annotator10  Нейронауки   Культура  Биология   История      Физика   \n",
       "\n",
       "                  text6      text7  \n",
       "Annotator1     Биология   Культура  \n",
       "Annotator2     Биология   Культура  \n",
       "Annotator3     Биология   Культура  \n",
       "Annotator4   Психология   Культура  \n",
       "Annotator5     Биология   Культура  \n",
       "Annotator6     Биология   Культура  \n",
       "Annotator7     Биология  Философия  \n",
       "Annotator8   Нейронауки   Культура  \n",
       "Annotator9     Биология   Культура  \n",
       "Annotator10    Биология   Культура  "
      ]
     },
     "execution_count": 8,
     "metadata": {},
     "output_type": "execute_result"
    }
   ],
   "source": [
    "import pandas as pd\n",
    "\n",
    "df = pd.read_csv('int_annot_ggl.tsv', sep = '\\t', index_col = 0)\n",
    "df"
   ]
  },
  {
   "cell_type": "markdown",
   "metadata": {},
   "source": [
    "Готовим данные для обработки: т.к. мы будем использовать модуль nltk.metrics.agreement, на вход нам потребуется список таплов (аннотатор, текст, лейбл):"
   ]
  },
  {
   "cell_type": "code",
   "execution_count": 9,
   "metadata": {},
   "outputs": [],
   "source": [
    "annot_data = []\n",
    "\n",
    "for text in df.columns:\n",
    "    for coder in df.T.columns:\n",
    "        annot_data.append((coder, text, df.T[coder][text]))\n",
    "        "
   ]
  },
  {
   "cell_type": "code",
   "execution_count": 10,
   "metadata": {},
   "outputs": [
    {
     "name": "stdout",
     "output_type": "stream",
     "text": [
      "kappa 0.6111234479472432\n",
      "fleiss 0.6053067993366503\n",
      "alpha 0.6088044022011005\n",
      "scotts 0.6031349007837253\n"
     ]
    }
   ],
   "source": [
    "from nltk import agreement\n",
    "\n",
    "ratingtask = agreement.AnnotationTask(data=annot_data)\n",
    "print(\"kappa \" +str(ratingtask.kappa()))\n",
    "print(\"fleiss \" + str(ratingtask.multi_kappa()))\n",
    "print(\"alpha \" +str(ratingtask.alpha()))\n",
    "print(\"scotts \" + str(ratingtask.pi()))"
   ]
  },
  {
   "cell_type": "markdown",
   "metadata": {},
   "source": [
    "Получаем:\n",
    "- каппа Коэна (для двух аннотаторов, сравнивает их попарно) - 0.6111234479472429 \n",
    "- каппа Фляйса (мульти-каппа Коэна, для нескольких аннотаторов) - 0.6053067993366503\n",
    "- альфа коэффициент Крипендорфа - 0.6088044022011005\n",
    "- пи Скотта - 0.6031349007837253\n",
    "\n",
    "Вышеперечисленные статистические методы оценки согласованности между несколькими аннотаторами, классифицирующими n текстов по m категориям, выдают очень близкие значения - усредненно 0,6. Это хороший показатель, близкий к высокому (высокий показатель > 0,75)"
   ]
  }
 ],
 "metadata": {
  "kernelspec": {
   "display_name": "Python 3",
   "language": "python",
   "name": "python3"
  },
  "language_info": {
   "codemirror_mode": {
    "name": "ipython",
    "version": 3
   },
   "file_extension": ".py",
   "mimetype": "text/x-python",
   "name": "python",
   "nbconvert_exporter": "python",
   "pygments_lexer": "ipython3",
   "version": "3.6.2"
  }
 },
 "nbformat": 4,
 "nbformat_minor": 2
}

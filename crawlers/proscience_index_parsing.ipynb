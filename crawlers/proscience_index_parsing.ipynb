{
 "cells": [
  {
   "cell_type": "markdown",
   "metadata": {},
   "source": [
    "# Parsing Polit.ru ProScience rubric (from wget output)"
   ]
  },
  {
   "cell_type": "code",
   "execution_count": null,
   "metadata": {
    "collapsed": true
   },
   "outputs": [],
   "source": [
    "import re\n",
    "from bs4 import BeautifulSoup\n",
    "\n",
    "\n",
    "with open('/home/nst/mount/data/linguistics_hse/popular-science-research/polit.ru_prosience_wget/proscience_index.txt') as ps_index:\n",
    "    read_index = ps_index.readlines()    \n",
    "\n",
    "directory_index = '/home/nst/mount/data/linguistics_hse/popular-science-research/polit.ru_prosience_wget'\n",
    "\n",
    "\n",
    "# Cleaning up html text\n",
    "\n",
    "def clean_soup(html):\n",
    "    soup = BeautifulSoup(html, 'lxml')\n",
    "    for script in soup([\"script\", \"style\"]):\n",
    "        script.extract()    \n",
    "    text = soup.get_text()\n",
    "    lines = (line.strip() for line in text.splitlines())\n",
    "    chunks = (phrase.strip() for line in lines for phrase in line.split(\"  \"))\n",
    "    text = '\\n'.join(chunk for chunk in chunks if chunk)\n",
    "    return text\n",
    "\n",
    "\n",
    "\n",
    "# This code reads html files through directories\n",
    "\n",
    "for line in read_index:\n",
    "    line = line[1:]\n",
    "    directory = directory_index + line.rstrip()\n",
    "    single_text = open(directory)\n",
    "    extracted_text = single_text.read()\n",
    "\n",
    "# Find the text of the article in html and clean it from tags\n",
    "\n",
    "    reg_body = re.compile('<div class=\"content\">.*?<div style=\"padding-bottom: 20px;\">', flags = re.DOTALL)\n",
    "    body = reg_body.findall(extracted_text)\n",
    "    body_str = str(body)\n",
    "    clean_body = clean_soup(body_str)\n",
    "    clean_body = re.sub(r'[\\\\n, \\\\t, \\[, \\], \\']', ' ', clean_body)\n",
    "#    print(clean_body)\n",
    "    \n",
    "# Creating a name for each text file\n",
    "    file_name = directory.replace('/home/nst/mount/data/linguistics_hse/popular-science-research/polit.ru_prosience_wget/polit.ru/', '')\n",
    "    file_name = file_name.replace('html', 'txt')\n",
    "    file_name = file_name.replace('/', '-')\n",
    "    with open(file_name, 'w') as fl:\n",
    "        fl.write(clean_body)      \n"
   ]
  }
 ],
 "metadata": {
  "kernelspec": {
   "display_name": "Python 3",
   "language": "python",
   "name": "python3"
  },
  "language_info": {
   "codemirror_mode": {
    "name": "ipython",
    "version": 3
   },
   "file_extension": ".py",
   "mimetype": "text/x-python",
   "name": "python",
   "nbconvert_exporter": "python",
   "pygments_lexer": "ipython3",
   "version": "3.6.2"
  }
 },
 "nbformat": 4,
 "nbformat_minor": 2
}

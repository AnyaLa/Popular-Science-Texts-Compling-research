{
 "cells": [
  {
   "cell_type": "code",
   "execution_count": 1,
   "metadata": {
    "collapsed": true
   },
   "outputs": [],
   "source": [
    "import re\n",
    "from collections import Counter\n",
    "import pymorphy2\n",
    "from tqdm import tqdm\n",
    "import os"
   ]
  },
  {
   "cell_type": "code",
   "execution_count": 2,
   "metadata": {
    "collapsed": true
   },
   "outputs": [],
   "source": [
    "morph = pymorphy2.MorphAnalyzer()"
   ]
  },
  {
   "cell_type": "code",
   "execution_count": 2,
   "metadata": {
    "collapsed": true
   },
   "outputs": [],
   "source": [
    "marked_path = '/home/nst/mount/data/share/yd/popular_science_texts_store/ner_markup/final_markup/'"
   ]
  },
  {
   "cell_type": "code",
   "execution_count": 3,
   "metadata": {
    "collapsed": true
   },
   "outputs": [],
   "source": [
    "def slurp(path):\n",
    "    with open(path, 'r') as file_object:\n",
    "        return file_object.read()"
   ]
  },
  {
   "cell_type": "code",
   "execution_count": 4,
   "metadata": {
    "collapsed": true
   },
   "outputs": [],
   "source": [
    "def extract_ne(text):\n",
    "    pattern = re.compile(r'&(.*?)!&')\n",
    "    nes = re.findall(pattern, text)\n",
    "    lemmas = []\n",
    "    for ne in nes:\n",
    "        divided = ne.split()\n",
    "        lemma = [morph.parse(word)[0].normal_form for word in divided]\n",
    "        lemma = ' '.join(lemma)\n",
    "        lemmas.append(lemma)\n",
    "    return lemmas"
   ]
  },
  {
   "cell_type": "code",
   "execution_count": 45,
   "metadata": {
    "collapsed": true
   },
   "outputs": [],
   "source": [
    "test = 'Мы давно не видели Энштейна потому что он уже умер а Стив Гейнс жив'"
   ]
  },
  {
   "cell_type": "code",
   "execution_count": 33,
   "metadata": {},
   "outputs": [
    {
     "name": "stdout",
     "output_type": "stream",
     "text": [
      "['Энштейна', 'Стив Гейнс']\n"
     ]
    }
   ],
   "source": [
    "pattern = re.compile(r'&(.*?)!&')\n",
    "it = re.findall(pattern, text)\n",
    "#s = it[1]\n",
    "#print(it.index('Энштейна'))\n",
    "print(it)"
   ]
  },
  {
   "cell_type": "code",
   "execution_count": 49,
   "metadata": {
    "collapsed": true
   },
   "outputs": [],
   "source": [
    "text = 'Есть очень неудачные способы разведения рыб, однако если посмотреть на &Энштейна!& лучшие практики, то они намного меньше вредят природе, чем любое производство на суше», — отметил декан Школы экологии и управления Брена Калифорнийского университета &Стив Гейнс!& в Санта Барбаре'"
   ]
  },
  {
   "cell_type": "code",
   "execution_count": 74,
   "metadata": {
    "collapsed": true
   },
   "outputs": [],
   "source": [
    "def range_ne(texts_path, top_number):\n",
    "    nes = []\n",
    "    texts = []\n",
    "    for root, dirs, files in os.walk(texts_path):\n",
    "        for file_name in files:\n",
    "            input_path = texts_path + file_name\n",
    "            marked_text = slurp(input_path)\n",
    "            texts.append(marked_text)\n",
    "    for text in tqdm(texts):\n",
    "        found_ne = extract_ne(text)\n",
    "        #print(found_ne)\n",
    "        nes.extend(found_ne)\n",
    "    ne_dict = Counter(nes)\n",
    "    ranged_ne = list(sorted(ne_dict, key = lambda x : x[1], reverse=True))\n",
    "    print(top_number, \"most cited scholars are:\\n\", ranged_ne[:top_number]) \n",
    "    return ranged_ne"
   ]
  },
  {
   "cell_type": "code",
   "execution_count": 75,
   "metadata": {},
   "outputs": [
    {
     "name": "stderr",
     "output_type": "stream",
     "text": [
      "100%|██████████| 167/167 [00:01<00:00, 97.53it/s]\n"
     ]
    },
    {
     "ename": "IndexError",
     "evalue": "string index out of range",
     "output_type": "error",
     "traceback": [
      "\u001b[0;31m---------------------------------------------------------------------------\u001b[0m",
      "\u001b[0;31mIndexError\u001b[0m                                Traceback (most recent call last)",
      "\u001b[0;32m<ipython-input-75-c87bcbb2ca57>\u001b[0m in \u001b[0;36m<module>\u001b[0;34m()\u001b[0m\n\u001b[0;32m----> 1\u001b[0;31m \u001b[0mtop\u001b[0m \u001b[0;34m=\u001b[0m \u001b[0mrange_ne\u001b[0m\u001b[0;34m(\u001b[0m\u001b[0mmarked_path\u001b[0m\u001b[0;34m,\u001b[0m \u001b[0;36m20\u001b[0m\u001b[0;34m)\u001b[0m\u001b[0;34m\u001b[0m\u001b[0m\n\u001b[0m",
      "\u001b[0;32m<ipython-input-74-8ae5b42597b0>\u001b[0m in \u001b[0;36mrange_ne\u001b[0;34m(texts_path, top_number)\u001b[0m\n\u001b[1;32m     12\u001b[0m         \u001b[0mnes\u001b[0m\u001b[0;34m.\u001b[0m\u001b[0mextend\u001b[0m\u001b[0;34m(\u001b[0m\u001b[0mfound_ne\u001b[0m\u001b[0;34m)\u001b[0m\u001b[0;34m\u001b[0m\u001b[0m\n\u001b[1;32m     13\u001b[0m     \u001b[0mne_dict\u001b[0m \u001b[0;34m=\u001b[0m \u001b[0mCounter\u001b[0m\u001b[0;34m(\u001b[0m\u001b[0mnes\u001b[0m\u001b[0;34m)\u001b[0m\u001b[0;34m\u001b[0m\u001b[0m\n\u001b[0;32m---> 14\u001b[0;31m     \u001b[0mranged_ne\u001b[0m \u001b[0;34m=\u001b[0m \u001b[0mlist\u001b[0m\u001b[0;34m(\u001b[0m\u001b[0msorted\u001b[0m\u001b[0;34m(\u001b[0m\u001b[0mne_dict\u001b[0m\u001b[0;34m,\u001b[0m \u001b[0mkey\u001b[0m \u001b[0;34m=\u001b[0m \u001b[0;32mlambda\u001b[0m \u001b[0mx\u001b[0m \u001b[0;34m:\u001b[0m \u001b[0mx\u001b[0m\u001b[0;34m[\u001b[0m\u001b[0;36m1\u001b[0m\u001b[0;34m]\u001b[0m\u001b[0;34m,\u001b[0m \u001b[0mreverse\u001b[0m\u001b[0;34m=\u001b[0m\u001b[0;32mTrue\u001b[0m\u001b[0;34m)\u001b[0m\u001b[0;34m)\u001b[0m\u001b[0;34m\u001b[0m\u001b[0m\n\u001b[0m\u001b[1;32m     15\u001b[0m     \u001b[0mprint\u001b[0m\u001b[0;34m(\u001b[0m\u001b[0mtop_number\u001b[0m\u001b[0;34m,\u001b[0m \u001b[0;34m\"most cited scholars are:\\n\"\u001b[0m\u001b[0;34m,\u001b[0m \u001b[0mranged_ne\u001b[0m\u001b[0;34m[\u001b[0m\u001b[0;34m:\u001b[0m\u001b[0mtop_number\u001b[0m\u001b[0;34m]\u001b[0m\u001b[0;34m)\u001b[0m\u001b[0;34m\u001b[0m\u001b[0m\n\u001b[1;32m     16\u001b[0m     \u001b[0;32mreturn\u001b[0m \u001b[0mranged_ne\u001b[0m\u001b[0;34m\u001b[0m\u001b[0m\n",
      "\u001b[0;32m<ipython-input-74-8ae5b42597b0>\u001b[0m in \u001b[0;36m<lambda>\u001b[0;34m(x)\u001b[0m\n\u001b[1;32m     12\u001b[0m         \u001b[0mnes\u001b[0m\u001b[0;34m.\u001b[0m\u001b[0mextend\u001b[0m\u001b[0;34m(\u001b[0m\u001b[0mfound_ne\u001b[0m\u001b[0;34m)\u001b[0m\u001b[0;34m\u001b[0m\u001b[0m\n\u001b[1;32m     13\u001b[0m     \u001b[0mne_dict\u001b[0m \u001b[0;34m=\u001b[0m \u001b[0mCounter\u001b[0m\u001b[0;34m(\u001b[0m\u001b[0mnes\u001b[0m\u001b[0;34m)\u001b[0m\u001b[0;34m\u001b[0m\u001b[0m\n\u001b[0;32m---> 14\u001b[0;31m     \u001b[0mranged_ne\u001b[0m \u001b[0;34m=\u001b[0m \u001b[0mlist\u001b[0m\u001b[0;34m(\u001b[0m\u001b[0msorted\u001b[0m\u001b[0;34m(\u001b[0m\u001b[0mne_dict\u001b[0m\u001b[0;34m,\u001b[0m \u001b[0mkey\u001b[0m \u001b[0;34m=\u001b[0m \u001b[0;32mlambda\u001b[0m \u001b[0mx\u001b[0m \u001b[0;34m:\u001b[0m \u001b[0mx\u001b[0m\u001b[0;34m[\u001b[0m\u001b[0;36m1\u001b[0m\u001b[0;34m]\u001b[0m\u001b[0;34m,\u001b[0m \u001b[0mreverse\u001b[0m\u001b[0;34m=\u001b[0m\u001b[0;32mTrue\u001b[0m\u001b[0;34m)\u001b[0m\u001b[0;34m)\u001b[0m\u001b[0;34m\u001b[0m\u001b[0m\n\u001b[0m\u001b[1;32m     15\u001b[0m     \u001b[0mprint\u001b[0m\u001b[0;34m(\u001b[0m\u001b[0mtop_number\u001b[0m\u001b[0;34m,\u001b[0m \u001b[0;34m\"most cited scholars are:\\n\"\u001b[0m\u001b[0;34m,\u001b[0m \u001b[0mranged_ne\u001b[0m\u001b[0;34m[\u001b[0m\u001b[0;34m:\u001b[0m\u001b[0mtop_number\u001b[0m\u001b[0;34m]\u001b[0m\u001b[0;34m)\u001b[0m\u001b[0;34m\u001b[0m\u001b[0m\n\u001b[1;32m     16\u001b[0m     \u001b[0;32mreturn\u001b[0m \u001b[0mranged_ne\u001b[0m\u001b[0;34m\u001b[0m\u001b[0m\n",
      "\u001b[0;31mIndexError\u001b[0m: string index out of range"
     ]
    }
   ],
   "source": [
    "top = range_ne(marked_path, 20)"
   ]
  },
  {
   "cell_type": "markdown",
   "metadata": {},
   "source": [
    "## Get NE context"
   ]
  },
  {
   "cell_type": "code",
   "execution_count": 71,
   "metadata": {},
   "outputs": [],
   "source": [
    "def extract_entities_indices(text):\n",
    "    indices = []\n",
    "    entity_index_left = None\n",
    "    entity_index_right = None\n",
    "    pattern = re.compile(r'&(.*?)!&')\n",
    "    split_text = re.findall(r'[A-Za-zА-ЯЁа-яё]+', text)\n",
    "    nes = re.findall(pattern, text)\n",
    "    #print(split_text)\n",
    "    for word in split_text:\n",
    "        for entity in nes:\n",
    "            print(entity)\n",
    "            ne = entity.split()\n",
    "            if word == ne[0]:\n",
    "                entity_index_left = split_text.index(word)\n",
    "            if word == ne[-1]:\n",
    "                entity_index_right = split_text.index(word)\n",
    "            if entity_index_left != None and entity_index_right != None:\n",
    "                index_pair = (entity_index_left, entity_index_right)\n",
    "                indices.append(index_pair)\n",
    "    return indices "
   ]
  },
  {
   "cell_type": "code",
   "execution_count": null,
   "metadata": {
    "collapsed": true
   },
   "outputs": [],
   "source": []
  },
  {
   "cell_type": "code",
   "execution_count": 72,
   "metadata": {},
   "outputs": [
    {
     "name": "stdout",
     "output_type": "stream",
     "text": [
      "Энштейна\n",
      "Стив Гейнс\n",
      "Энштейна\n",
      "Стив Гейнс\n",
      "Энштейна\n",
      "Стив Гейнс\n",
      "Энштейна\n",
      "Стив Гейнс\n",
      "Энштейна\n",
      "Стив Гейнс\n",
      "Энштейна\n",
      "Стив Гейнс\n",
      "Энштейна\n",
      "Стив Гейнс\n",
      "Энштейна\n",
      "Стив Гейнс\n",
      "Энштейна\n",
      "Стив Гейнс\n",
      "Энштейна\n",
      "Стив Гейнс\n",
      "Энштейна\n",
      "Стив Гейнс\n",
      "Энштейна\n",
      "Стив Гейнс\n",
      "Энштейна\n",
      "Стив Гейнс\n",
      "Энштейна\n",
      "Стив Гейнс\n",
      "Энштейна\n",
      "Стив Гейнс\n",
      "Энштейна\n",
      "Стив Гейнс\n",
      "Энштейна\n",
      "Стив Гейнс\n",
      "Энштейна\n",
      "Стив Гейнс\n",
      "Энштейна\n",
      "Стив Гейнс\n",
      "Энштейна\n",
      "Стив Гейнс\n",
      "Энштейна\n",
      "Стив Гейнс\n",
      "Энштейна\n",
      "Стив Гейнс\n",
      "Энштейна\n",
      "Стив Гейнс\n",
      "Энштейна\n",
      "Стив Гейнс\n",
      "Энштейна\n",
      "Стив Гейнс\n",
      "Энштейна\n",
      "Стив Гейнс\n",
      "Энштейна\n",
      "Стив Гейнс\n",
      "Энштейна\n",
      "Стив Гейнс\n",
      "Энштейна\n",
      "Стив Гейнс\n",
      "Энштейна\n",
      "Стив Гейнс\n",
      "Энштейна\n",
      "Стив Гейнс\n",
      "Энштейна\n",
      "Стив Гейнс\n",
      "Энштейна\n",
      "Стив Гейнс\n",
      "Энштейна\n",
      "Стив Гейнс\n",
      "Энштейна\n",
      "Стив Гейнс\n",
      "Энштейна\n",
      "Стив Гейнс\n",
      "Энштейна\n",
      "Стив Гейнс\n",
      "Энштейна\n",
      "Стив Гейнс\n"
     ]
    },
    {
     "data": {
      "text/plain": [
       "[(10, 10),\n",
       " (10, 10),\n",
       " (10, 10),\n",
       " (10, 10),\n",
       " (10, 10),\n",
       " (10, 10),\n",
       " (10, 10),\n",
       " (10, 10),\n",
       " (10, 10),\n",
       " (10, 10),\n",
       " (10, 10),\n",
       " (10, 10),\n",
       " (10, 10),\n",
       " (10, 10),\n",
       " (10, 10),\n",
       " (10, 10),\n",
       " (10, 10),\n",
       " (10, 10),\n",
       " (10, 10),\n",
       " (10, 10),\n",
       " (10, 10),\n",
       " (10, 10),\n",
       " (10, 10),\n",
       " (10, 10),\n",
       " (10, 10),\n",
       " (10, 10),\n",
       " (10, 10),\n",
       " (10, 10),\n",
       " (10, 10),\n",
       " (10, 10),\n",
       " (10, 10),\n",
       " (10, 10),\n",
       " (10, 10),\n",
       " (10, 10),\n",
       " (10, 10),\n",
       " (10, 10),\n",
       " (10, 10),\n",
       " (10, 10),\n",
       " (10, 10),\n",
       " (10, 10),\n",
       " (10, 10),\n",
       " (10, 10),\n",
       " (10, 10),\n",
       " (10, 10),\n",
       " (10, 10),\n",
       " (10, 10),\n",
       " (10, 10),\n",
       " (33, 10),\n",
       " (33, 10),\n",
       " (33, 34),\n",
       " (33, 34),\n",
       " (33, 34),\n",
       " (33, 34),\n",
       " (33, 34),\n",
       " (33, 34),\n",
       " (33, 34)]"
      ]
     },
     "execution_count": 72,
     "metadata": {},
     "output_type": "execute_result"
    }
   ],
   "source": [
    "extract_entities_indices(text)"
   ]
  },
  {
   "cell_type": "code",
   "execution_count": 29,
   "metadata": {},
   "outputs": [
    {
     "name": "stdout",
     "output_type": "stream",
     "text": [
      "11 12\n"
     ]
    }
   ],
   "source": [
    "left_index = 0\n",
    "right_index =0\n",
    "for word in test:\n",
    "    if word == s[0]:\n",
    "        left_index = test.index(word)\n",
    "    if word == s[-1]:\n",
    "        right_index = test.index(word)\n",
    "print(left_index, right_index)"
   ]
  },
  {
   "cell_type": "code",
   "execution_count": 6,
   "metadata": {
    "collapsed": true
   },
   "outputs": [],
   "source": [
    "def get_context(word_list, window):\n",
    "    word_index = word_list.index('crisis')\n",
    "    left_index = word_index-winow\n",
    "    if left_index < 0:\n",
    "        left_index = 0\n",
    "    context = word_list[left_index:(word_index+window)]\n",
    "    context = ' '.join(context)\n",
    "    return context"
   ]
  }
 ],
 "metadata": {
  "kernelspec": {
   "display_name": "Python 3",
   "language": "python",
   "name": "python3"
  },
  "language_info": {
   "codemirror_mode": {
    "name": "ipython",
    "version": 3
   },
   "file_extension": ".py",
   "mimetype": "text/x-python",
   "name": "python",
   "nbconvert_exporter": "python",
   "pygments_lexer": "ipython3",
   "version": "3.6.2"
  }
 },
 "nbformat": 4,
 "nbformat_minor": 2
}

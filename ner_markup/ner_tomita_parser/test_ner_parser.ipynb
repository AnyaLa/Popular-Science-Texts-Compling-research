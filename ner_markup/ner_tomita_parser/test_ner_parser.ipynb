{
 "cells": [
  {
   "cell_type": "code",
   "execution_count": 9,
   "metadata": {
    "collapsed": true
   },
   "outputs": [],
   "source": [
    "import re\n",
    "import os\n",
    "from tqdm import tqdm"
   ]
  },
  {
   "cell_type": "code",
   "execution_count": 91,
   "metadata": {
    "collapsed": true
   },
   "outputs": [],
   "source": [
    "def slurp(path):\n",
    "    try:\n",
    "        with open(path, 'r') as fo:\n",
    "            text = fo.read()\n",
    "    except UnicodeDecodeError:\n",
    "        print(path)\n",
    "        with open(path, 'r', encoding='cp1252') as fo:\n",
    "            text = fo.read()\n",
    "    return text\n",
    "\n",
    "def spit(texts, file_names):\n",
    "    for text, file_name in tqdm(zip(texts, file_names)):\n",
    "        with open(file_name, 'w') as fo:\n",
    "            fo.write(text)\n",
    "\n",
    "def read_dir(input_path):\n",
    "    texts = []\n",
    "    files = []\n",
    "    print('Reading files...')\n",
    "    for root, dirs, filenames in os.walk(input_path):\n",
    "        files.extend(filenames)\n",
    "        for filename in tqdm(filenames):\n",
    "            file_path = os.path.join(root, filename)\n",
    "            if '.ipynb' not in file_path:\n",
    "                text = slurp(file_path)\n",
    "                texts.append(text)\n",
    "    print('Number of texts: ', len(texts))\n",
    "    return texts, files\n",
    "\n",
    "def preprocess(input_path, output_path):\n",
    "    texts, filenames = read_dir(input_path)\n",
    "    pattern = re.compile(r'[А-ЯЁа-яё\\.\\-\\d]+')\n",
    "    preprocessed = []\n",
    "    print('Preprocessing files...')\n",
    "    for text in tqdm(texts):\n",
    "        preproc_text = ' '.join(re.findall(pattern, text))\n",
    "        preprocessed.append(preproc_text)\n",
    "    paths = [output_path + name for name in filenames if 'ipynb' not in name]\n",
    "    print('Number of texts: ', len(texts))\n",
    "    print('Number of paths:', len(paths))\n",
    "    print('Writing to files...')\n",
    "    spit(preprocessed, paths)\n",
    "    print('All done, Buddy!')"
   ]
  },
  {
   "cell_type": "markdown",
   "metadata": {},
   "source": [
    "## Preprocess texts before parsing"
   ]
  },
  {
   "cell_type": "code",
   "execution_count": 81,
   "metadata": {
    "collapsed": true
   },
   "outputs": [],
   "source": [
    "spit_dir = '/home/nst/mount/data/linguistics_hse/popular-science-research/Tomita_Parser/tomita-parser/build/bin/sci_corpus/'\n",
    "slurp_dir = '/home/nst/mount/data/share/yd/popular_science_texts_store_copy'"
   ]
  },
  {
   "cell_type": "code",
   "execution_count": 92,
   "metadata": {},
   "outputs": [
    {
     "name": "stderr",
     "output_type": "stream",
     "text": [
      "\n",
      "0it [00:00, ?it/s]\u001b[A\n",
      "\u001b[A\n",
      "0it [00:00, ?it/s]\u001b[A\n",
      "\u001b[A\n",
      "  0%|          | 0/707 [00:00<?, ?it/s]\u001b[A"
     ]
    },
    {
     "name": "stdout",
     "output_type": "stream",
     "text": [
      "Reading files...\n"
     ]
    },
    {
     "name": "stderr",
     "output_type": "stream",
     "text": [
      "\n",
      "  1%|          | 6/707 [00:00<00:12, 54.75it/s]\u001b[A\n",
      "  2%|▏         | 14/707 [00:00<00:11, 61.65it/s]\u001b[A\n",
      "  3%|▎         | 20/707 [00:00<00:11, 59.24it/s]\u001b[A\n",
      "  4%|▍         | 29/707 [00:00<00:10, 65.30it/s]\u001b[A\n",
      "  5%|▌         | 38/707 [00:00<00:10, 64.70it/s]\u001b[A\n",
      "  7%|▋         | 47/707 [00:00<00:09, 68.41it/s]\u001b[A\n",
      "  8%|▊         | 57/707 [00:00<00:09, 71.64it/s]\u001b[A\n",
      "  9%|▉         | 65/707 [00:00<00:08, 72.38it/s]\u001b[A\n",
      " 10%|█         | 73/707 [00:01<00:08, 72.22it/s]\u001b[A\n",
      " 11%|█▏        | 81/707 [00:01<00:08, 71.68it/s]\u001b[A\n",
      " 13%|█▎        | 90/707 [00:01<00:08, 73.06it/s]\u001b[A\n",
      " 14%|█▍        | 98/707 [00:01<00:08, 72.23it/s]\u001b[A\n",
      " 15%|█▌        | 108/707 [00:01<00:08, 74.06it/s]\u001b[A\n",
      " 17%|█▋        | 117/707 [00:01<00:07, 74.23it/s]Exception in thread Thread-131:\n",
      "Traceback (most recent call last):\n",
      "  File \"/home/nst/anaconda3/lib/python3.6/threading.py\", line 916, in _bootstrap_inner\n",
      "    self.run()\n",
      "  File \"/home/nst/anaconda3/lib/python3.6/site-packages/tqdm/_tqdm.py\", line 144, in run\n",
      "    for instance in self.tqdm_cls._instances:\n",
      "  File \"/home/nst/anaconda3/lib/python3.6/_weakrefset.py\", line 60, in __iter__\n",
      "    for itemref in self.data:\n",
      "RuntimeError: Set changed size during iteration\n",
      "\n",
      "100%|██████████| 707/707 [00:09<00:00, 73.75it/s]\n",
      "100%|██████████| 1500/1500 [00:29<00:00, 50.77it/s]\n",
      "100%|██████████| 5166/5166 [00:58<00:00, 87.77it/s]\n",
      "0it [00:00, ?it/s]\n",
      "100%|██████████| 1454/1454 [00:15<00:00, 96.60it/s]\n",
      "0it [00:00, ?it/s]\n",
      "100%|██████████| 600/600 [00:13<00:00, 44.99it/s]\n",
      "100%|██████████| 1/1 [00:00<00:00, 5005.14it/s]\n",
      "100%|██████████| 542/542 [00:11<00:00, 46.72it/s]\n",
      "100%|██████████| 1/1 [00:00<00:00, 5629.94it/s]\n",
      "100%|██████████| 11171/11171 [03:56<00:00, 47.17it/s]\n",
      "100%|██████████| 1/1 [00:00<00:00, 2452.81it/s]\n",
      "0it [00:00, ?it/s]\n",
      "100%|██████████| 1413/1413 [00:20<00:00, 70.23it/s]\n",
      "100%|██████████| 1/1 [00:00<00:00, 6765.01it/s]\n",
      "100%|██████████| 3850/3850 [00:58<00:00, 65.50it/s]\n",
      "0it [00:00, ?it/s]\n",
      "100%|██████████| 562/562 [00:09<00:00, 60.12it/s]\n",
      "100%|██████████| 1/1 [00:00<00:00, 38.60it/s]\n",
      "100%|██████████| 499/499 [00:12<00:00, 41.10it/s]\n",
      "100%|██████████| 499/499 [00:14<00:00, 33.85it/s]\n",
      "100%|██████████| 500/500 [00:10<00:00, 49.37it/s]\n",
      "100%|██████████| 500/500 [00:07<00:00, 67.47it/s]\n",
      "100%|██████████| 500/500 [00:05<00:00, 99.52it/s] \n",
      "100%|██████████| 500/500 [00:07<00:00, 66.54it/s]\n",
      "100%|██████████| 500/500 [00:12<00:00, 39.50it/s]\n",
      "100%|██████████| 500/500 [00:08<00:00, 58.74it/s]\n",
      "100%|██████████| 89/89 [00:01<00:00, 76.92it/s]\n",
      "  0%|          | 67/31052 [00:00<00:46, 668.37it/s]"
     ]
    },
    {
     "name": "stdout",
     "output_type": "stream",
     "text": [
      "Number of texts:  31052\n",
      "Preprocessing files...\n"
     ]
    },
    {
     "name": "stderr",
     "output_type": "stream",
     "text": [
      "100%|██████████| 31052/31052 [00:13<00:00, 2247.23it/s]\n",
      "0it [00:00, ?it/s]"
     ]
    },
    {
     "name": "stdout",
     "output_type": "stream",
     "text": [
      "Number of texts:  31052\n",
      "Number of paths: 31052\n",
      "Writing to files...\n"
     ]
    },
    {
     "name": "stderr",
     "output_type": "stream",
     "text": [
      "31052it [06:37, 78.14it/s] \n"
     ]
    },
    {
     "name": "stdout",
     "output_type": "stream",
     "text": [
      "All done, Buddy!\n"
     ]
    }
   ],
   "source": [
    "chrdk = preprocess(slurp_dir, spit_dir)"
   ]
  }
 ],
 "metadata": {
  "kernelspec": {
   "display_name": "Python 3",
   "language": "python",
   "name": "python3"
  },
  "language_info": {
   "codemirror_mode": {
    "name": "ipython",
    "version": 3
   },
   "file_extension": ".py",
   "mimetype": "text/x-python",
   "name": "python",
   "nbconvert_exporter": "python",
   "pygments_lexer": "ipython3",
   "version": "3.6.2"
  }
 },
 "nbformat": 4,
 "nbformat_minor": 2
}

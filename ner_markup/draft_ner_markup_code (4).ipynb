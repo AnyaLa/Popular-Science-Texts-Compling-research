{
 "cells": [
  {
   "cell_type": "code",
   "execution_count": 1,
   "metadata": {
    "collapsed": true
   },
   "outputs": [],
   "source": [
    "import re\n",
    "import os"
   ]
  },
  {
   "cell_type": "code",
   "execution_count": 18,
   "metadata": {
    "collapsed": true
   },
   "outputs": [],
   "source": [
    "test_texts_root = r'/home/nst/mount/data/share/yd/'\\\n",
    "                   'popular_science_texts_store/ner_markup/test_ner/test_texts/'\n",
    "    \n",
    "output_root = r'/home/nst/mount/data/share/yd/'\\\n",
    "               'popular_science_texts_store/ner_markup/test_ner/output_texts/'"
   ]
  },
  {
   "cell_type": "code",
   "execution_count": 111,
   "metadata": {
    "collapsed": true
   },
   "outputs": [],
   "source": [
    "file_name = 'nplus1.ru-news-2015-05-10-darkenergy.txt'\n",
    "sample_path_in = test_texts_root + file_name\n",
    "sample_path_out = output_root + file_name"
   ]
  },
  {
   "cell_type": "code",
   "execution_count": 3,
   "metadata": {
    "collapsed": true
   },
   "outputs": [],
   "source": [
    "def slurp(path):\n",
    "    with open(path, 'r') as file_object:\n",
    "        return file_object.read()\n",
    "    \n",
    "def spit(path, text):\n",
    "    os.makedirs(os.path.dirname(path), exist_ok=True)\n",
    "    with open(path, 'w') as file_object:\n",
    "        return file_object.write(text)"
   ]
  },
  {
   "cell_type": "code",
   "execution_count": 47,
   "metadata": {
    "collapsed": true
   },
   "outputs": [],
   "source": [
    "text = slurp(sample_path_in)"
   ]
  },
  {
   "cell_type": "code",
   "execution_count": 53,
   "metadata": {},
   "outputs": [
    {
     "data": {
      "text/plain": [
       "5021"
      ]
     },
     "execution_count": 53,
     "metadata": {},
     "output_type": "execute_result"
    }
   ],
   "source": [
    "spit(sample_path_out, text)"
   ]
  },
  {
   "cell_type": "code",
   "execution_count": 19,
   "metadata": {
    "collapsed": true
   },
   "outputs": [],
   "source": [
    "def assertEqual(a, b):\n",
    "    if a != b:\n",
    "        raise AssertionError('expected \"%s\", actual \"%s\"' % (a, b))"
   ]
  },
  {
   "cell_type": "code",
   "execution_count": 31,
   "metadata": {},
   "outputs": [],
   "source": [
    "def insert_tags(text, index_start, index_end):\n",
    "    initial_tag = '<>'\n",
    "    final_tag = '</>'\n",
    "    return text[:index_start] + initial_tag + text[index_start:index_end] \\\n",
    "        + final_tag + text[index_end:]\n",
    "\n",
    "assertEqual('ученый <>Хокинг</>', \n",
    "           insert_tags('ученый Хокинг', 7, 13))"
   ]
  },
  {
   "cell_type": "code",
   "execution_count": 32,
   "metadata": {},
   "outputs": [],
   "source": [
    "def tag_text(text):\n",
    "    pattern = re.compile(r'([А-ЯЁ][а-яё]+|[A-Z][a-z]+)')\n",
    "    find_ner = re.finditer(pattern, text)\n",
    "    for item in reversed(list(find_ner)):\n",
    "        start_index, end_index = item.span()\n",
    "        text = insert_tags(text, start_index, end_index)\n",
    "    return text\n",
    "\n",
    "assertEqual('ученый <>Хокинг</> из <>Великобритании</>', \n",
    "           tag_text('ученый Хокинг из Великобритании'))"
   ]
  },
  {
   "cell_type": "code",
   "execution_count": 22,
   "metadata": {},
   "outputs": [
    {
     "ename": "NameError",
     "evalue": "name 'text' is not defined",
     "output_type": "error",
     "traceback": [
      "\u001b[0;31m---------------------------------------------------------------------------\u001b[0m",
      "\u001b[0;31mNameError\u001b[0m                                 Traceback (most recent call last)",
      "\u001b[0;32m<ipython-input-22-19d4150fa67a>\u001b[0m in \u001b[0;36m<module>\u001b[0;34m()\u001b[0m\n\u001b[0;32m----> 1\u001b[0;31m \u001b[0mmarked_up_text\u001b[0m \u001b[0;34m=\u001b[0m \u001b[0mtag_text\u001b[0m\u001b[0;34m(\u001b[0m\u001b[0mtext\u001b[0m\u001b[0;34m)\u001b[0m\u001b[0;34m\u001b[0m\u001b[0m\n\u001b[0m",
      "\u001b[0;31mNameError\u001b[0m: name 'text' is not defined"
     ]
    }
   ],
   "source": [
    "marked_up_text = tag_text(text)"
   ]
  },
  {
   "cell_type": "markdown",
   "metadata": {},
   "source": [
    "## Make draft files ##"
   ]
  },
  {
   "cell_type": "code",
   "execution_count": 34,
   "metadata": {
    "collapsed": true
   },
   "outputs": [],
   "source": [
    "for root, dirs, files in os.walk(test_texts_root):\n",
    "    for file_name in files:\n",
    "        input_path = test_texts_root + file_name\n",
    "        output_path = output_root + file_name[:-3] + 'xml'\n",
    "        text = tag_text(slurp(input_path))\n",
    "        spit(output_path, text)"
   ]
  },
  {
   "cell_type": "code",
   "execution_count": 15,
   "metadata": {
    "collapsed": true
   },
   "outputs": [],
   "source": [
    "draft_texts_root = r'/home/nst/mount/data/share/yd/'\\\n",
    "               'popular_science_texts_store/ner_markup/test_ner/output_texts/'\n",
    "    \n",
    "final_texts_root = r'/home/nst/mount/data/share/yd/popular_science_texts_store/'\\\n",
    "                'ner_markup/final_markup/'"
   ]
  },
  {
   "cell_type": "code",
   "execution_count": 33,
   "metadata": {},
   "outputs": [],
   "source": [
    "def change_tags(marked_texts_root):\n",
    "    start_tag = '<>'\n",
    "    final_tag = '</>'\n",
    "    for root, dirs, files in os.walk(marked_texts_root):\n",
    "        for file_name in files:\n",
    "            file_path = draft_texts_root + file_name\n",
    "            content = slurp(file_path)\n",
    "            marked_text = re.sub(start_tag, '&', content)\n",
    "            marked_text = re.sub(final_tag, '!&', marked_text)\n",
    "            output_path = final_texts_root + file_name[:-3] + 'txt'\n",
    "            spit(output_path, marked_text)\n",
    "    print('I\\'m done')"
   ]
  },
  {
   "cell_type": "markdown",
   "metadata": {},
   "source": [
    "## Make final changes ##"
   ]
  },
  {
   "cell_type": "code",
   "execution_count": 25,
   "metadata": {},
   "outputs": [
    {
     "name": "stdout",
     "output_type": "stream",
     "text": [
      "I'm done\n"
     ]
    }
   ],
   "source": [
    "change_tags(draft_texts_root)"
   ]
  }
 ],
 "metadata": {
  "kernelspec": {
   "display_name": "Python 3",
   "language": "python",
   "name": "python3"
  },
  "language_info": {
   "codemirror_mode": {
    "name": "ipython",
    "version": 3
   },
   "file_extension": ".py",
   "mimetype": "text/x-python",
   "name": "python",
   "nbconvert_exporter": "python",
   "pygments_lexer": "ipython3",
   "version": "3.6.2"
  }
 },
 "nbformat": 4,
 "nbformat_minor": 2
}

{
 "cells": [
  {
   "cell_type": "code",
   "execution_count": 2,
   "metadata": {
    "collapsed": true
   },
   "outputs": [],
   "source": [
    "import pandas as pd\n",
    "import re\n",
    "from nltk.corpus import stopwords\n",
    "import sklearn\n",
    "from sklearn.pipeline import Pipeline\n",
    "\n",
    "stopwords_rus = stopwords.words('russian')"
   ]
  },
  {
   "cell_type": "code",
   "execution_count": 1,
   "metadata": {
    "collapsed": true
   },
   "outputs": [],
   "source": [
    "import sys\n",
    "sys.path.append('C:\\Program Files\\Anaconda3\\Lib\\site-packages')"
   ]
  },
  {
   "cell_type": "code",
   "execution_count": 3,
   "metadata": {
    "collapsed": true
   },
   "outputs": [],
   "source": [
    "from tqdm import tqdm"
   ]
  },
  {
   "cell_type": "code",
   "execution_count": 4,
   "metadata": {
    "collapsed": true
   },
   "outputs": [],
   "source": [
    "metadata = pd.read_csv('meta_rubrics_final.tsv', encoding = 'utf-8', sep = '\\t')"
   ]
  },
  {
   "cell_type": "code",
   "execution_count": 5,
   "metadata": {
    "collapsed": true
   },
   "outputs": [],
   "source": [
    "def preprocess(texts):\n",
    "    preprocessed_texts_list = []\n",
    "    for text in tqdm(texts):\n",
    "        #del_new_line = re.sub(r'\\n', '', text.lower()) \n",
    "        extracted_text = re.findall(r'[\\w]+', text.lower())#разделяем на токены\n",
    "        extracted_text = ' '.join(extracted_text)\n",
    "        preprocessed_texts_list.append(extracted_text)\n",
    "    return preprocessed_texts_list"
   ]
  },
  {
   "cell_type": "code",
   "execution_count": 8,
   "metadata": {
    "scrolled": true
   },
   "outputs": [],
   "source": [
    "articles = pd.DataFrame(data = list(zip(metadata.path, metadata.title, metadata.tags, metadata.final_rubrics, metadata.number_of_rubrics)), \n",
    "                        columns = ['path', 'title', 'tags', 'rubrics', 'rubrics_number'])"
   ]
  },
  {
   "cell_type": "code",
   "execution_count": 9,
   "metadata": {},
   "outputs": [
    {
     "data": {
      "text/html": [
       "<div>\n",
       "<style>\n",
       "    .dataframe thead tr:only-child th {\n",
       "        text-align: right;\n",
       "    }\n",
       "\n",
       "    .dataframe thead th {\n",
       "        text-align: left;\n",
       "    }\n",
       "\n",
       "    .dataframe tbody tr th {\n",
       "        vertical-align: top;\n",
       "    }\n",
       "</style>\n",
       "<table border=\"1\" class=\"dataframe\">\n",
       "  <thead>\n",
       "    <tr style=\"text-align: right;\">\n",
       "      <th></th>\n",
       "      <th>path</th>\n",
       "      <th>title</th>\n",
       "      <th>tags</th>\n",
       "      <th>rubrics</th>\n",
       "      <th>rubrics_number</th>\n",
       "    </tr>\n",
       "  </thead>\n",
       "  <tbody>\n",
       "    <tr>\n",
       "      <th>0</th>\n",
       "      <td>chrdk.ru/articles/sci_10_salt_lakes.txt</td>\n",
       "      <td>Десять самых известных соленых озер</td>\n",
       "      <td>География_Экология</td>\n",
       "      <td>Науки о земле</td>\n",
       "      <td>One</td>\n",
       "    </tr>\n",
       "    <tr>\n",
       "      <th>1</th>\n",
       "      <td>chrdk.ru/articles/sci_33_fractures.txt</td>\n",
       "      <td>33 перелома</td>\n",
       "      <td>Российская наука_Антропология</td>\n",
       "      <td>История</td>\n",
       "      <td>One</td>\n",
       "    </tr>\n",
       "    <tr>\n",
       "      <th>2</th>\n",
       "      <td>chrdk.ru/articles/sci_46_chromosomes.txt</td>\n",
       "      <td>46 — норма?</td>\n",
       "      <td>Генетика_Медицина</td>\n",
       "      <td>Физиология человека</td>\n",
       "      <td>One</td>\n",
       "    </tr>\n",
       "    <tr>\n",
       "      <th>3</th>\n",
       "      <td>chrdk.ru/articles/sci_750gev.txt</td>\n",
       "      <td>Несбывшиеся надежды на новую физику</td>\n",
       "      <td>Физика_Интервью_Закрытия</td>\n",
       "      <td>Физика</td>\n",
       "      <td>One</td>\n",
       "    </tr>\n",
       "    <tr>\n",
       "      <th>4</th>\n",
       "      <td>chrdk.ru/articles/sci_alien_anatomy.txt</td>\n",
       "      <td>Анатомия каменных пришельцев</td>\n",
       "      <td>Геология_Космос</td>\n",
       "      <td>Космос</td>\n",
       "      <td>Multi</td>\n",
       "    </tr>\n",
       "  </tbody>\n",
       "</table>\n",
       "</div>"
      ],
      "text/plain": [
       "                                       path  \\\n",
       "0   chrdk.ru/articles/sci_10_salt_lakes.txt   \n",
       "1    chrdk.ru/articles/sci_33_fractures.txt   \n",
       "2  chrdk.ru/articles/sci_46_chromosomes.txt   \n",
       "3          chrdk.ru/articles/sci_750gev.txt   \n",
       "4   chrdk.ru/articles/sci_alien_anatomy.txt   \n",
       "\n",
       "                                 title                           tags  \\\n",
       "0  Десять самых известных соленых озер             География_Экология   \n",
       "1                          33 перелома  Российская наука_Антропология   \n",
       "2                          46 — норма?              Генетика_Медицина   \n",
       "3  Несбывшиеся надежды на новую физику       Физика_Интервью_Закрытия   \n",
       "4         Анатомия каменных пришельцев                Геология_Космос   \n",
       "\n",
       "               rubrics rubrics_number  \n",
       "0        Науки о земле            One  \n",
       "1              История            One  \n",
       "2  Физиология человека            One  \n",
       "3               Физика            One  \n",
       "4               Космос          Multi  "
      ]
     },
     "execution_count": 9,
     "metadata": {},
     "output_type": "execute_result"
    }
   ],
   "source": [
    "articles.head()"
   ]
  },
  {
   "cell_type": "code",
   "execution_count": 29,
   "metadata": {
    "collapsed": true
   },
   "outputs": [],
   "source": [
    "articles_sample = articles[articles.rubrics != 'Мусор'].head(2000)"
   ]
  },
  {
   "cell_type": "code",
   "execution_count": 30,
   "metadata": {},
   "outputs": [
    {
     "name": "stderr",
     "output_type": "stream",
     "text": [
      "100%|████████████████████████████████████| 2000/2000 [00:01<00:00, 1307.13it/s]\n"
     ]
    }
   ],
   "source": [
    "texts = []\n",
    "for path in tqdm(articles_sample.path):\n",
    "    path = path.replace('\\n','').replace('//','/').replace('?code=','-code=')\n",
    "    try:\n",
    "        with open('C:/Users/Анна/YandexDisk/popular_science_texts_store/' + path, encoding = 'utf-8') as f:\n",
    "            texts.append(f.read())\n",
    "    except OSError:\n",
    "        texts.append('')"
   ]
  },
  {
   "cell_type": "code",
   "execution_count": 39,
   "metadata": {},
   "outputs": [
    {
     "data": {
      "text/html": [
       "<div>\n",
       "<style>\n",
       "    .dataframe thead tr:only-child th {\n",
       "        text-align: right;\n",
       "    }\n",
       "\n",
       "    .dataframe thead th {\n",
       "        text-align: left;\n",
       "    }\n",
       "\n",
       "    .dataframe tbody tr th {\n",
       "        vertical-align: top;\n",
       "    }\n",
       "</style>\n",
       "<table border=\"1\" class=\"dataframe\">\n",
       "  <thead>\n",
       "    <tr style=\"text-align: right;\">\n",
       "      <th></th>\n",
       "      <th>path</th>\n",
       "      <th>source</th>\n",
       "      <th>url</th>\n",
       "      <th>date</th>\n",
       "      <th>title</th>\n",
       "      <th>subtitle</th>\n",
       "      <th>author</th>\n",
       "      <th>tags</th>\n",
       "      <th>genre</th>\n",
       "      <th>mapped_rubrics</th>\n",
       "      <th>final_rubrics</th>\n",
       "    </tr>\n",
       "  </thead>\n",
       "  <tbody>\n",
       "    <tr>\n",
       "      <th>11962</th>\n",
       "      <td>nplus1.ru/nplus1_news/nplus1.ru-news-2016-01-1...</td>\n",
       "      <td>nplus1.ru</td>\n",
       "      <td>nplus1.ru/news/2016/01/21/gambling</td>\n",
       "      <td>2016-01-21</td>\n",
       "      <td>Светомузыка сделала крыс азартными игроками</td>\n",
       "      <td>NaN</td>\n",
       "      <td>Олег Лищук</td>\n",
       "      <td>_Наука_</td>\n",
       "      <td>Новости</td>\n",
       "      <td>Мусор</td>\n",
       "      <td>Мусор</td>\n",
       "    </tr>\n",
       "  </tbody>\n",
       "</table>\n",
       "</div>"
      ],
      "text/plain": [
       "                                                    path     source  \\\n",
       "11962  nplus1.ru/nplus1_news/nplus1.ru-news-2016-01-1...  nplus1.ru   \n",
       "\n",
       "                                      url        date  \\\n",
       "11962  nplus1.ru/news/2016/01/21/gambling  2016-01-21   \n",
       "\n",
       "                                             title subtitle      author  \\\n",
       "11962  Светомузыка сделала крыс азартными игроками      NaN  Олег Лищук   \n",
       "\n",
       "          tags    genre mapped_rubrics final_rubrics  \n",
       "11962  _Наука_  Новости          Мусор         Мусор  "
      ]
     },
     "execution_count": 39,
     "metadata": {},
     "output_type": "execute_result"
    }
   ],
   "source": [
    "metadata[metadata.path == 'nplus1.ru/nplus1_news/nplus1.ru-news-2016-01-15-dark-side-moon?code=1dad93b27f46ea76816e3938f188885d.txt\\n']"
   ]
  },
  {
   "cell_type": "code",
   "execution_count": null,
   "metadata": {
    "collapsed": true
   },
   "outputs": [],
   "source": [
    "#имена файлов\n",
    "#индикатор - путь начинается с /\n",
    "#nplus1 - все имена заканчиваются на \\n, \n",
    "#вместо ...moon-code=1dad93b27f46ea76816e3938f188885d -> moon?code=1dad93b27f46ea76816e3938f188885d"
   ]
  },
  {
   "cell_type": "code",
   "execution_count": 31,
   "metadata": {},
   "outputs": [],
   "source": [
    "articles_sample['text'] = texts"
   ]
  },
  {
   "cell_type": "code",
   "execution_count": 32,
   "metadata": {
    "scrolled": true
   },
   "outputs": [
    {
     "data": {
      "text/html": [
       "<div>\n",
       "<style>\n",
       "    .dataframe thead tr:only-child th {\n",
       "        text-align: right;\n",
       "    }\n",
       "\n",
       "    .dataframe thead th {\n",
       "        text-align: left;\n",
       "    }\n",
       "\n",
       "    .dataframe tbody tr th {\n",
       "        vertical-align: top;\n",
       "    }\n",
       "</style>\n",
       "<table border=\"1\" class=\"dataframe\">\n",
       "  <thead>\n",
       "    <tr style=\"text-align: right;\">\n",
       "      <th></th>\n",
       "      <th>path</th>\n",
       "      <th>title</th>\n",
       "      <th>tags</th>\n",
       "      <th>rubrics</th>\n",
       "      <th>rubrics_number</th>\n",
       "      <th>text</th>\n",
       "    </tr>\n",
       "  </thead>\n",
       "  <tbody>\n",
       "    <tr>\n",
       "      <th>0</th>\n",
       "      <td>chrdk.ru/articles/sci_10_salt_lakes.txt</td>\n",
       "      <td>Десять самых известных соленых озер</td>\n",
       "      <td>География_Экология</td>\n",
       "      <td>Науки о земле</td>\n",
       "      <td>One</td>\n",
       "      <td>Возможно, не все об этом знают, но объемы воды...</td>\n",
       "    </tr>\n",
       "    <tr>\n",
       "      <th>1</th>\n",
       "      <td>chrdk.ru/articles/sci_33_fractures.txt</td>\n",
       "      <td>33 перелома</td>\n",
       "      <td>Российская наука_Антропология</td>\n",
       "      <td>История</td>\n",
       "      <td>One</td>\n",
       "      <td>Останки мужчины с зажившими переломами нашли п...</td>\n",
       "    </tr>\n",
       "    <tr>\n",
       "      <th>2</th>\n",
       "      <td>chrdk.ru/articles/sci_46_chromosomes.txt</td>\n",
       "      <td>46 — норма?</td>\n",
       "      <td>Генетика_Медицина</td>\n",
       "      <td>Физиология человека</td>\n",
       "      <td>One</td>\n",
       "      <td>В отличие от зубов, хромосом человеку положено...</td>\n",
       "    </tr>\n",
       "    <tr>\n",
       "      <th>3</th>\n",
       "      <td>chrdk.ru/articles/sci_750gev.txt</td>\n",
       "      <td>Несбывшиеся надежды на новую физику</td>\n",
       "      <td>Физика_Интервью_Закрытия</td>\n",
       "      <td>Физика</td>\n",
       "      <td>One</td>\n",
       "      <td>В начале августа CERN официально объявил, что ...</td>\n",
       "    </tr>\n",
       "    <tr>\n",
       "      <th>4</th>\n",
       "      <td>chrdk.ru/articles/sci_alien_anatomy.txt</td>\n",
       "      <td>Анатомия каменных пришельцев</td>\n",
       "      <td>Геология_Космос</td>\n",
       "      <td>Космос</td>\n",
       "      <td>Multi</td>\n",
       "      <td>Как выглядят и чем отличаются друг от друга го...</td>\n",
       "    </tr>\n",
       "  </tbody>\n",
       "</table>\n",
       "</div>"
      ],
      "text/plain": [
       "                                       path  \\\n",
       "0   chrdk.ru/articles/sci_10_salt_lakes.txt   \n",
       "1    chrdk.ru/articles/sci_33_fractures.txt   \n",
       "2  chrdk.ru/articles/sci_46_chromosomes.txt   \n",
       "3          chrdk.ru/articles/sci_750gev.txt   \n",
       "4   chrdk.ru/articles/sci_alien_anatomy.txt   \n",
       "\n",
       "                                 title                           tags  \\\n",
       "0  Десять самых известных соленых озер             География_Экология   \n",
       "1                          33 перелома  Российская наука_Антропология   \n",
       "2                          46 — норма?              Генетика_Медицина   \n",
       "3  Несбывшиеся надежды на новую физику       Физика_Интервью_Закрытия   \n",
       "4         Анатомия каменных пришельцев                Геология_Космос   \n",
       "\n",
       "               rubrics rubrics_number  \\\n",
       "0        Науки о земле            One   \n",
       "1              История            One   \n",
       "2  Физиология человека            One   \n",
       "3               Физика            One   \n",
       "4               Космос          Multi   \n",
       "\n",
       "                                                text  \n",
       "0  Возможно, не все об этом знают, но объемы воды...  \n",
       "1  Останки мужчины с зажившими переломами нашли п...  \n",
       "2  В отличие от зубов, хромосом человеку положено...  \n",
       "3  В начале августа CERN официально объявил, что ...  \n",
       "4  Как выглядят и чем отличаются друг от друга го...  "
      ]
     },
     "execution_count": 32,
     "metadata": {},
     "output_type": "execute_result"
    }
   ],
   "source": [
    "articles_sample.head()"
   ]
  },
  {
   "cell_type": "code",
   "execution_count": 33,
   "metadata": {},
   "outputs": [
    {
     "name": "stderr",
     "output_type": "stream",
     "text": [
      "100%|████████████████████████████████████| 2000/2000 [00:01<00:00, 1018.81it/s]\n"
     ]
    }
   ],
   "source": [
    "articles_sample.text = preprocess(articles_sample.text)"
   ]
  },
  {
   "cell_type": "code",
   "execution_count": 34,
   "metadata": {},
   "outputs": [
    {
     "data": {
      "text/plain": [
       "'возможно не все об этом знают но объемы воды в пресных и соленых озерах на планете примерно одинаковы а вот научное внимание распределено неравномерно исследований в области пресных водоемов в несколько раз больше во многом это удивительно ведь солен'"
      ]
     },
     "execution_count": 34,
     "metadata": {},
     "output_type": "execute_result"
    }
   ],
   "source": [
    "articles_sample.text[0][:250]"
   ]
  },
  {
   "cell_type": "code",
   "execution_count": 36,
   "metadata": {},
   "outputs": [
    {
     "data": {
      "text/plain": [
       "16"
      ]
     },
     "execution_count": 36,
     "metadata": {},
     "output_type": "execute_result"
    }
   ],
   "source": [
    "len(set(articles_sample.rubrics))"
   ]
  },
  {
   "cell_type": "code",
   "execution_count": 41,
   "metadata": {
    "collapsed": true
   },
   "outputs": [],
   "source": [
    "from sklearn.decomposition import TruncatedSVD\n",
    "from sklearn.feature_extraction.text import *\n",
    "from sklearn.pipeline import *\n",
    "from sklearn.preprocessing import Normalizer\n",
    "from sklearn.metrics import *\n",
    "from sklearn.cluster import *\n",
    "import numpy as np\n"
   ]
  },
  {
   "cell_type": "code",
   "execution_count": 37,
   "metadata": {},
   "outputs": [
    {
     "data": {
      "text/plain": [
       "Pipeline(steps=[('vect', CountVectorizer(analyzer='word', binary=False, decode_error='strict',\n",
       "        dtype=<class 'numpy.int64'>, encoding='utf-8', input='content',\n",
       "        lowercase=True, max_df=0.9, max_features=None, min_df=3,\n",
       "        ngram_range=(1, 1), preprocessor=None,\n",
       "        stop_words=['и', 'в', ...=16, n_init=10, n_jobs=1, precompute_distances='auto',\n",
       "    random_state=42, tol=0.0001, verbose=0))])"
      ]
     },
     "execution_count": 37,
     "metadata": {},
     "output_type": "execute_result"
    }
   ],
   "source": [
    "pipeline = Pipeline([\n",
    "    ('vect', CountVectorizer(max_df = 0.9, min_df = 3, stop_words = stopwords_rus, analyzer = 'word')),\n",
    "    ('tfidf', TfidfTransformer()),\n",
    "    #('svd', TruncatedSVD(n_components = 1500)),\n",
    "    #('norm', Normalizer() ),\n",
    "    ('clust', KMeans(n_clusters = 16, random_state = 42))\n",
    "])\n",
    "\n",
    "\n",
    "pipeline.fit(articles_sample.text)"
   ]
  },
  {
   "cell_type": "code",
   "execution_count": 50,
   "metadata": {},
   "outputs": [
    {
     "name": "stdout",
     "output_type": "stream",
     "text": [
      "Homogeneity: 0.322376354155\n",
      "Completeness: 0.283890706408\n",
      "V-measure 0.301912001702\n",
      "Adjusted Rand-Index: 0.119989066892\n"
     ]
    }
   ],
   "source": [
    "clust_labels = pipeline.named_steps['clust'].labels_\n",
    "labels = articles_sample.rubrics\n",
    "\n",
    "print(\"Homogeneity:\", homogeneity_score(labels, clust_labels))\n",
    "print(\"Completeness:\", completeness_score(labels, clust_labels))\n",
    "print(\"V-measure\",  v_measure_score(labels, clust_labels))\n",
    "print(\"Adjusted Rand-Index:\",  adjusted_rand_score(labels, clust_labels))"
   ]
  },
  {
   "cell_type": "code",
   "execution_count": 51,
   "metadata": {},
   "outputs": [
    {
     "data": {
      "text/plain": [
       "    rubrics            \n",
       "0   Космос                 38\n",
       "    Технологии             25\n",
       "    Computer Science       23\n",
       "    Футурология            13\n",
       "    Науки о земле          10\n",
       "    Физика                  9\n",
       "    Биология                5\n",
       "    Социология              2\n",
       "    Экономика               2\n",
       "    Язык                    2\n",
       "    Математика              1\n",
       "    Физиология человека     1\n",
       "1   Биология               70\n",
       "    Технологии             52\n",
       "    Психология             39\n",
       "    Computer Science       35\n",
       "    Физиология человека    22\n",
       "    Физика                 20\n",
       "    Язык                   19\n",
       "    Социология             14\n",
       "    Математика             13\n",
       "    История                11\n",
       "    Футурология             8\n",
       "    Космос                  6\n",
       "    Химия                   5\n",
       "    Культура                4\n",
       "    Науки о земле           2\n",
       "    Экономика               2\n",
       "2   Космос                 21\n",
       "    Физика                  5\n",
       "                           ..\n",
       "13  Биология               41\n",
       "    Социология             28\n",
       "    Науки о земле          14\n",
       "    Психология              9\n",
       "    Космос                  5\n",
       "    Математика              5\n",
       "    Технологии              4\n",
       "    Computer Science        1\n",
       "    История                 1\n",
       "    Физика                  1\n",
       "    Футурология             1\n",
       "    Химия                   1\n",
       "    Экономика               1\n",
       "    Язык                    1\n",
       "14  Технологии             25\n",
       "    Физиология человека    16\n",
       "    Биология                8\n",
       "    Computer Science        5\n",
       "    Физика                  3\n",
       "    Космос                  2\n",
       "    Науки о земле           2\n",
       "    Психология              2\n",
       "    Футурология             1\n",
       "15  Физиология человека    12\n",
       "    Биология                8\n",
       "    Психология              7\n",
       "    Социология              4\n",
       "    Математика              3\n",
       "    Химия                   2\n",
       "    История                 1\n",
       "Name: rubrics, Length: 132, dtype: int64"
      ]
     },
     "execution_count": 51,
     "metadata": {},
     "output_type": "execute_result"
    }
   ],
   "source": [
    "labels.groupby(clust_labels).value_counts()"
   ]
  },
  {
   "cell_type": "code",
   "execution_count": 54,
   "metadata": {
    "collapsed": true
   },
   "outputs": [],
   "source": [
    "articles_sample2 = articles[(articles.rubrics != 'Мусор')&(articles.rubrics_number == 'One')].head(2000)"
   ]
  },
  {
   "cell_type": "code",
   "execution_count": 55,
   "metadata": {},
   "outputs": [
    {
     "name": "stderr",
     "output_type": "stream",
     "text": [
      "100%|████████████████████████████████████| 2000/2000 [00:01<00:00, 1340.43it/s]\n"
     ]
    }
   ],
   "source": [
    "texts = []\n",
    "for path in tqdm(articles_sample2.path):\n",
    "    path = path.replace('\\n','').replace('//','/').replace('?code=','-code=')\n",
    "    try:\n",
    "        with open('C:/Users/Анна/YandexDisk/popular_science_texts_store/' + path, encoding = 'utf-8') as f:\n",
    "            texts.append(f.read())\n",
    "    except OSError:\n",
    "        texts.append('')"
   ]
  },
  {
   "cell_type": "code",
   "execution_count": 56,
   "metadata": {
    "collapsed": true
   },
   "outputs": [],
   "source": [
    "articles_sample2['text'] = texts"
   ]
  },
  {
   "cell_type": "code",
   "execution_count": 58,
   "metadata": {},
   "outputs": [
    {
     "name": "stderr",
     "output_type": "stream",
     "text": [
      "100%|█████████████████████████████████████| 2000/2000 [00:02<00:00, 909.06it/s]\n"
     ]
    }
   ],
   "source": [
    "articles_sample2.text = preprocess(articles_sample2.text)"
   ]
  },
  {
   "cell_type": "code",
   "execution_count": 60,
   "metadata": {},
   "outputs": [
    {
     "data": {
      "text/plain": [
       "Pipeline(steps=[('vect', CountVectorizer(analyzer='word', binary=False, decode_error='strict',\n",
       "        dtype=<class 'numpy.int64'>, encoding='utf-8', input='content',\n",
       "        lowercase=True, max_df=0.9, max_features=None, min_df=3,\n",
       "        ngram_range=(1, 1), preprocessor=None,\n",
       "        stop_words=['и', 'в', ...=16, n_init=10, n_jobs=1, precompute_distances='auto',\n",
       "    random_state=42, tol=0.0001, verbose=0))])"
      ]
     },
     "execution_count": 60,
     "metadata": {},
     "output_type": "execute_result"
    }
   ],
   "source": [
    "pipeline = Pipeline([\n",
    "    ('vect', CountVectorizer(max_df = 0.9, min_df = 3, stop_words = stopwords_rus, analyzer = 'word')),\n",
    "    ('tfidf', TfidfTransformer()),\n",
    "    #('svd', TruncatedSVD(n_components = 1500)),\n",
    "    #('norm', Normalizer() ),\n",
    "    ('clust', KMeans(n_clusters = 16, random_state = 42))\n",
    "])\n",
    "\n",
    "\n",
    "pipeline.fit(articles_sample2.text)"
   ]
  },
  {
   "cell_type": "code",
   "execution_count": 66,
   "metadata": {},
   "outputs": [
    {
     "name": "stdout",
     "output_type": "stream",
     "text": [
      "Homogeneity: 0.379048522594\n",
      "Completeness: 0.334265418801\n",
      "V-measure 0.355251189688\n",
      "Adjusted Rand-Index: 0.176918791332\n"
     ]
    }
   ],
   "source": [
    "clust_labels = pipeline.named_steps['clust'].labels_\n",
    "labels = articles_sample2.rubrics\n",
    "\n",
    "print(\"Homogeneity:\", homogeneity_score(labels, clust_labels))\n",
    "print(\"Completeness:\", completeness_score(labels, clust_labels))\n",
    "print(\"V-measure\",  v_measure_score(labels, clust_labels))\n",
    "print(\"Adjusted Rand-Index:\",  adjusted_rand_score(labels, clust_labels))"
   ]
  },
  {
   "cell_type": "code",
   "execution_count": 64,
   "metadata": {},
   "outputs": [
    {
     "data": {
      "text/plain": [
       "Pipeline(steps=[('vect', CountVectorizer(analyzer='word', binary=False, decode_error='strict',\n",
       "        dtype=<class 'numpy.int64'>, encoding='utf-8', input='content',\n",
       "        lowercase=True, max_df=0.9, max_features=None, min_df=3,\n",
       "        ngram_range=(1, 1), preprocessor=None,\n",
       "        stop_words=['и', 'в', ...ory(cachedir=None), n_clusters=16,\n",
       "            pooling_func=<function mean at 0x00000000050F17B8>))])"
      ]
     },
     "execution_count": 64,
     "metadata": {},
     "output_type": "execute_result"
    }
   ],
   "source": [
    "pipeline2 = Pipeline([\n",
    "    ('vect', CountVectorizer(max_df = 0.9, min_df = 3, analyzer = 'word', stop_words = stopwords_rus)),\n",
    "    ('tfidf', TfidfTransformer()),\n",
    "    ('svd', TruncatedSVD(n_components = 1500)),\n",
    "    ('norm', Normalizer() ),\n",
    "    ('clust', AgglomerativeClustering(n_clusters = 16, affinity = 'euclidean')) \n",
    "])\n",
    "\n",
    "pipeline2.fit(articles_sample2.text)"
   ]
  },
  {
   "cell_type": "code",
   "execution_count": 65,
   "metadata": {},
   "outputs": [
    {
     "name": "stdout",
     "output_type": "stream",
     "text": [
      "Homogeneity: 0.339795337239\n",
      "Completeness: 0.360931411627\n",
      "V-measure 0.350044609921\n",
      "Adjusted Rand-Index: 0.17576233936\n"
     ]
    }
   ],
   "source": [
    "clust_labels = pipeline2.named_steps['clust'].labels_\n",
    "labels = articles_sample2.rubrics\n",
    "\n",
    "print(\"Homogeneity:\", homogeneity_score(labels, clust_labels))\n",
    "print(\"Completeness:\", completeness_score(labels, clust_labels))\n",
    "print(\"V-measure\",  v_measure_score(labels, clust_labels))\n",
    "print(\"Adjusted Rand-Index:\",  adjusted_rand_score(labels, clust_labels))"
   ]
  },
  {
   "cell_type": "code",
   "execution_count": null,
   "metadata": {
    "collapsed": true
   },
   "outputs": [],
   "source": []
  }
 ],
 "metadata": {
  "kernelspec": {
   "display_name": "Python 3",
   "language": "python",
   "name": "python3"
  },
  "language_info": {
   "codemirror_mode": {
    "name": "ipython",
    "version": 3
   },
   "file_extension": ".py",
   "mimetype": "text/x-python",
   "name": "python",
   "nbconvert_exporter": "python",
   "pygments_lexer": "ipython3",
   "version": "3.5.3"
  }
 },
 "nbformat": 4,
 "nbformat_minor": 2
}
